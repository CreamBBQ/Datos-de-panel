{
 "cells": [
  {
   "cell_type": "code",
   "execution_count": 40,
   "metadata": {},
   "outputs": [],
   "source": [
    "import pandas as pd \n",
    "import numpy as np \n",
    "import statsmodels.api as sm \n",
    "import scipy.linalg"
   ]
  },
  {
   "cell_type": "code",
   "execution_count": 41,
   "metadata": {},
   "outputs": [],
   "source": [
    "beta_0 = -3\n",
    "beta_1 = 0.8\n",
    "omega = np.array([[4,0,0,0],\n",
    "                  [0,9,0,0],\n",
    "                  [0,0,16,0],\n",
    "                  [0,0,0,25]])"
   ]
  },
  {
   "cell_type": "code",
   "execution_count": 42,
   "metadata": {},
   "outputs": [],
   "source": [
    "def get_data(N,T):\n",
    "    data = {'i': [], 't': [], 'y': [], 'cte':[] , 'x': [], 'u': []}\n",
    "    for person in range(1,N+1): \n",
    "        for time in range(1,T+1): \n",
    "            data['i'].append(person)\n",
    "            data['t'].append(time)\n",
    "            data['cte'].append(1)\n",
    "            x = np.random.uniform(1,30,1).astype(float)\n",
    "            u = np.random.normal(0, omega.item(time-1,time-1))\n",
    "            data['x'].append(x)\n",
    "            data['u'].append(u)\n",
    "            data['y'].append(beta_0 + beta_1*x + u)\n",
    "    return pd.DataFrame(data = data)"
   ]
  },
  {
   "cell_type": "code",
   "execution_count": 43,
   "metadata": {},
   "outputs": [],
   "source": [
    "def get_omega_est(N, T, df):\n",
    "    y = df['y'].astype(float)\n",
    "    x = df[['cte', 'x']].astype(float)\n",
    "    omega_est = np.zeros((T,T))\n",
    "    reg_ols = sm.OLS(y,x).fit()\n",
    "    u_hat = {'i': df['i'], 't': df['t'], 'u_jt': reg_ols.resid.tolist()}\n",
    "    u_hat = pd.DataFrame(data = u_hat)\n",
    "    for l in range(0, N*T,T): \n",
    "        u_j = np.array([[u_hat['u_jt'][l+i] for i in range(0,4)]]).T\n",
    "        omega_est = omega_est + u_j.dot(u_j.T)\n",
    "    aux = omega_est.reshape(1,T,T).repeat((N), axis = 0)\n",
    "    long_omega_est = scipy.linalg.block_diag(*aux)\n",
    "    return pd.DataFrame(long_omega_est)\n",
    "\n",
    "    "
   ]
  },
  {
   "cell_type": "code",
   "execution_count": 44,
   "metadata": {},
   "outputs": [],
   "source": [
    "def get_fgls(N, T): \n",
    "    data = get_data(N, T)\n",
    "    omega_est = get_omega_est(N, T, data)\n",
    "    y = data['y'].astype(float)\n",
    "    x = data[['cte', 'x']].astype(float)\n",
    "    return sm.GLS(y, x, omega_est).fit()"
   ]
  },
  {
   "cell_type": "code",
   "execution_count": 91,
   "metadata": {},
   "outputs": [],
   "source": [
    "def get_simulation_report(muestras, N, T):\n",
    "    np.random.seed(1313) \n",
    "    count_power_b0 = 0\n",
    "    count_power_b1 = 0\n",
    "    count_size_1= 0\n",
    "    count_size_5 = 0\n",
    "    coef_list_0 = []\n",
    "    coef_list_1 = []\n",
    "    se_list_b0 = []\n",
    "    se_list_b1 = []\n",
    "    for muestra in range(0, muestras):\n",
    "        fgls = get_fgls(N, T)\n",
    "        coef_list_0.append(fgls.params[0])\n",
    "        coef_list_1.append(fgls.params[1])\n",
    "        se_list_b0.append(fgls.bse[0])\n",
    "        se_list_b1.append(fgls.bse[1])\n",
    "        test = fgls.t_test('x = 0.8, cte = 0, x = 0.4')\n",
    "        if test.pvalue[0] <= 0.01: \n",
    "            count_size_1 = count_size_1 + 1\n",
    "        if test.pvalue[0] <= 0.05: \n",
    "            count_size_5 = count_size_5 + 1 \n",
    "        if test.pvalue[1] <= 0.01: \n",
    "            count_power_b0 = count_power_b0 + 1 \n",
    "        if test.pvalue[2] <= 0.01: \n",
    "            count_power_b1 = count_power_b1 + +1\n",
    "    report = {'Tamaño al 1%': count_size_1/muestras, \n",
    "              'Tamaño al 5%': count_size_5/muestras, \n",
    "              'Poder de b_0=0 al 1%': count_power_b0/muestras, \n",
    "              'Poder de b_1=0.4 al 1%': count_power_b1/muestras,\n",
    "              'Media de b_0': np.mean(coef_list_0 ),\n",
    "              'Media de b_1': np.mean(coef_list_1), \n",
    "              'Mediana de b_0': np.median(coef_list_0),\n",
    "              'Mediana de B_1': np.median(coef_list_1),\n",
    "              'SE de b_0': np.mean(se_list_b0), \n",
    "              'SE de b_1': np.mean(se_list_b1)}\n",
    "    return report\n",
    "        "
   ]
  },
  {
   "cell_type": "code",
   "execution_count": null,
   "metadata": {},
   "outputs": [],
   "source": [
    "get_simulation_report(100,5,4)"
   ]
  },
  {
   "cell_type": "code",
   "execution_count": null,
   "metadata": {},
   "outputs": [],
   "source": [
    "get_simulation_report(5000, 5, 4)"
   ]
  },
  {
   "cell_type": "code",
   "execution_count": null,
   "metadata": {},
   "outputs": [],
   "source": [
    "get_simulation_report(5000, 10, 4)"
   ]
  },
  {
   "cell_type": "code",
   "execution_count": null,
   "metadata": {},
   "outputs": [],
   "source": [
    "get_simulation_report(5000, 100, 4)"
   ]
  },
  {
   "cell_type": "code",
   "execution_count": null,
   "metadata": {},
   "outputs": [],
   "source": [
    "get_simulation_report(5000, 200, 4)"
   ]
  },
  {
   "cell_type": "code",
   "execution_count": null,
   "metadata": {},
   "outputs": [],
   "source": [
    "get_simulation_report(5000, 500, 4)"
   ]
  },
  {
   "cell_type": "code",
   "execution_count": 8,
   "metadata": {},
   "outputs": [],
   "source": [
    "# data = get_data(5,4)\n",
    "# y = data['y'].astype(float)\n",
    "# x = data[['cte', 'x']].astype(float)\n",
    "# reg_ols = sm.OLS(y,x).fit()\n",
    "# u_hat = {'i': data['i'], 't': data['t'], 'u_jt': reg_ols.resid.tolist()}\n",
    "# u_hat = pd.DataFrame(data = u_hat)\n",
    "# omg_est = np.zeros((4,4))\n",
    "# for l in range(0, 20,4): \n",
    "#     u_j = np.array([[u_hat['u_jt'][l+i] for i in range(0,4)]]).T\n",
    "#     omg_est = omg_est + u_j.dot(u_j.T)\n",
    "# omg_inv = np.linalg.inv(omg_est)\n",
    "# x = x.to_numpy()\n",
    "# y = y.to_numpy()\n",
    "# x_j = np.asanyarray([[x[i], x[i+1], x[i+2], x[i+3]] for i in range(0,20,4)])\n",
    "# y_j = np.asanyarray([[y[i], y[i+1], y[i+2], y[i+3]] for i in range(0,20,4)])\n",
    "# var_est = np.zeros((2,2), float) #KXK cambiar nombre esta en realidad es la inversa\n",
    "# xT_omg_y = np.zeros((2,1), float) #kx1\n",
    "# for i in range(0,5): \n",
    "#     temp = x_j[i].T.dot(omg_inv).dot(x_j[i])\n",
    "#     var_est = var_est + temp\n",
    "#     temp2 = x_j[i].T.dot(omg_inv).dot(y_j[i])\n",
    "#     xT_omg_y = xT_omg_y + temp2\n",
    "# xT_omg_y = xT_omg_y[1] #Me quedo solo con el primer vector porque numpy hace broadcasting \n",
    "# beta_fgls = np.linalg.inv(var_est).dot(xT_omg_y)\n",
    "# beta_fgls #No son muy diferentes a los ols, me gusta "
   ]
  }
 ],
 "metadata": {
  "interpreter": {
   "hash": "12a1f41f9cdc4d88b1ee063514ed2b0f6ec6d9cd287c610d2ab6d724020c34d3"
  },
  "kernelspec": {
   "display_name": "Python 3.9.7 ('base')",
   "language": "python",
   "name": "python3"
  },
  "language_info": {
   "codemirror_mode": {
    "name": "ipython",
    "version": 3
   },
   "file_extension": ".py",
   "mimetype": "text/x-python",
   "name": "python",
   "nbconvert_exporter": "python",
   "pygments_lexer": "ipython3",
   "version": "3.9.7"
  },
  "orig_nbformat": 4
 },
 "nbformat": 4,
 "nbformat_minor": 2
}
