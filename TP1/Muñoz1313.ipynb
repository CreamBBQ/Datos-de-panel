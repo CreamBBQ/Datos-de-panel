{
 "cells": [
  {
   "cell_type": "code",
   "execution_count": null,
   "metadata": {},
   "outputs": [],
   "source": [
    "import pandas as pd \n",
    "import numpy as np \n",
    "import statsmodels.api as sm \n",
    "import scipy.linalg"
   ]
  },
  {
   "cell_type": "code",
   "execution_count": 2,
   "metadata": {},
   "outputs": [],
   "source": [
    "beta_0 = -3\n",
    "beta_1 = 0.8\n",
    "omega = np.array([[4,0,0,0],\n",
    "                  [0,9,0,0],\n",
    "                  [0,0,16,0],\n",
    "                  [0,0,0,25]])"
   ]
  },
  {
   "cell_type": "code",
   "execution_count": 3,
   "metadata": {},
   "outputs": [],
   "source": [
    "def get_data(N,T):\n",
    "    data = {'i': [], 't': [], 'y': [], 'cte':[] , 'x': [], 'u': []}\n",
    "    for person in range(1,N+1): \n",
    "        for time in range(1,T+1): \n",
    "            data['i'].append(person)\n",
    "            data['t'].append(time)\n",
    "            data['cte'].append(1)\n",
    "            x = np.random.uniform(1,30,1).astype(float)\n",
    "            u = np.random.normal(0, omega.item(time-1,time-1))\n",
    "            data['x'].append(x)\n",
    "            data['u'].append(u)\n",
    "            data['y'].append(beta_0 + beta_1*x + u)\n",
    "    return pd.DataFrame(data = data)"
   ]
  },
  {
   "cell_type": "code",
   "execution_count": 4,
   "metadata": {},
   "outputs": [],
   "source": [
    "def get_omega_est(N, T, df):\n",
    "    y = df['y'].astype(float)\n",
    "    x = df[['cte', 'x']].astype(float)\n",
    "    omega_est = np.zeros((T,T))\n",
    "    reg_ols = sm.OLS(y,x).fit()\n",
    "    u_hat = {'i': df['i'], 't': df['t'], 'u_jt': reg_ols.resid.tolist()}\n",
    "    u_hat = pd.DataFrame(data = u_hat)\n",
    "    for l in range(0, N*T,T): \n",
    "        u_j = np.array([[u_hat['u_jt'][l+i] for i in range(0,4)]]).T\n",
    "        omega_est = omega_est + u_j.dot(u_j.T)\n",
    "    aux = omega_est.reshape(1,T,T).repeat((N), axis = 0)\n",
    "    long_omega_est = scipy.linalg.block_diag(*aux)\n",
    "    return pd.DataFrame(long_omega_est)\n",
    "\n",
    "    "
   ]
  },
  {
   "cell_type": "code",
   "execution_count": 5,
   "metadata": {},
   "outputs": [],
   "source": [
    "def get_fgls(N, T): \n",
    "    data = get_data(N, T)\n",
    "    omega_est = get_omega_est(N, T, data)\n",
    "    y = data['y'].astype(float)\n",
    "    x = data[['cte', 'x']].astype(float)\n",
    "    return sm.GLS(y, x, omega_est).fit()"
   ]
  },
  {
   "cell_type": "code",
   "execution_count": 6,
   "metadata": {},
   "outputs": [],
   "source": [
    "def get_simulation_report(muestras, N, T):\n",
    "    np.random.seed(1313) \n",
    "    count_power_b0 = 0\n",
    "    count_power_b1 = 0\n",
    "    count_size_1= 0\n",
    "    count_size_5 = 0\n",
    "    coef_list_0 = []\n",
    "    coef_list_1 = []\n",
    "    se_list_b0 = []\n",
    "    se_list_b1 = []\n",
    "    for muestra in range(0, muestras):\n",
    "        fgls = get_fgls(N, T)\n",
    "        coef_list_0.append(fgls.params[0])\n",
    "        coef_list_1.append(fgls.params[1])\n",
    "        se_list_b0.append(fgls.bse[0])\n",
    "        se_list_b1.append(fgls.bse[1])\n",
    "        test = fgls.t_test('x = 0.8, cte = 0, x = 0.4')\n",
    "        if test.pvalue[0] <= 0.01: \n",
    "            count_size_1 = count_size_1 + 1\n",
    "        if test.pvalue[0] <= 0.05: \n",
    "            count_size_5 = count_size_5 + 1 \n",
    "        if test.pvalue[1] <= 0.01: \n",
    "            count_power_b0 = count_power_b0 + 1 \n",
    "        if test.pvalue[2] <= 0.01: \n",
    "            count_power_b1 = count_power_b1 + +1\n",
    "    report = {'Tamaño al 1%': count_size_1/muestras, \n",
    "              'Tamaño al 5%': count_size_5/muestras, \n",
    "              'Poder de b_0=0 al 1%': count_power_b0/muestras, \n",
    "              'Poder de b_1=0.4 al 1%': count_power_b1/muestras,\n",
    "              'Media de b_0': np.mean(coef_list_0 ),\n",
    "              'Media de b_1': np.mean(coef_list_1), \n",
    "              'Mediana de b_0': np.median(coef_list_0),\n",
    "              'Mediana de B_1': np.median(coef_list_1),\n",
    "              'SE de b_0': np.mean(se_list_b0), \n",
    "              'SE de b_1': np.mean(se_list_b1)}\n",
    "    return report\n",
    "        "
   ]
  },
  {
   "cell_type": "code",
   "execution_count": 7,
   "metadata": {},
   "outputs": [
    {
     "data": {
      "text/plain": [
       "{'Tamaño al 1%': 0.3428,\n",
       " 'Tamaño al 5%': 0.473,\n",
       " 'Poder de b_0=0 al 1%': 0.3708,\n",
       " 'Poder de b_1=0.4 al 1%': 0.5676,\n",
       " 'Media de b_0': -3.005808992728244,\n",
       " 'Media de b_1': 0.8019037257101465,\n",
       " 'Mediana de b_0': -3.096550594533539,\n",
       " 'Mediana de B_1': 0.8070211303833639,\n",
       " 'SE de b_0': 2.4007660533876587,\n",
       " 'SE de b_1': 0.13297735760030902}"
      ]
     },
     "execution_count": 7,
     "metadata": {},
     "output_type": "execute_result"
    }
   ],
   "source": [
    "get_simulation_report(muestras = 5000, N = 5, T = 4)"
   ]
  },
  {
   "cell_type": "code",
   "execution_count": 8,
   "metadata": {},
   "outputs": [
    {
     "data": {
      "text/plain": [
       "{'Tamaño al 1%': 0.105,\n",
       " 'Tamaño al 5%': 0.2154,\n",
       " 'Poder de b_0=0 al 1%': 0.2276,\n",
       " 'Poder de b_1=0.4 al 1%': 0.6368,\n",
       " 'Media de b_0': -3.0653208416639584,\n",
       " 'Media de b_1': 0.8043436028014082,\n",
       " 'Mediana de b_0': -3.1232909550411487,\n",
       " 'Mediana de B_1': 0.8071752317221335,\n",
       " 'SE de b_0': 2.224118229828138,\n",
       " 'SE de b_1': 0.12519139540979046}"
      ]
     },
     "execution_count": 8,
     "metadata": {},
     "output_type": "execute_result"
    }
   ],
   "source": [
    "get_simulation_report(muestras = 5000, N = 10, T = 4)"
   ]
  },
  {
   "cell_type": "code",
   "execution_count": 9,
   "metadata": {},
   "outputs": [
    {
     "data": {
      "text/plain": [
       "{'Tamaño al 1%': 0.0258,\n",
       " 'Tamaño al 5%': 0.0908,\n",
       " 'Poder de b_0=0 al 1%': 0.3806,\n",
       " 'Poder de b_1=0.4 al 1%': 0.9846,\n",
       " 'Media de b_0': -3.0404172131718687,\n",
       " 'Media de b_1': 0.8019631355248176,\n",
       " 'Mediana de b_0': -3.044403930719625,\n",
       " 'Mediana de B_1': 0.8009299320802632,\n",
       " 'SE de b_0': 1.355656666149554,\n",
       " 'SE de b_1': 0.07679403622247184}"
      ]
     },
     "execution_count": 9,
     "metadata": {},
     "output_type": "execute_result"
    }
   ],
   "source": [
    "get_simulation_report(muestras = 5000, N = 30, T = 4)"
   ]
  },
  {
   "cell_type": "code",
   "execution_count": 10,
   "metadata": {},
   "outputs": [
    {
     "data": {
      "text/plain": [
       "{'Tamaño al 1%': 0.013,\n",
       " 'Tamaño al 5%': 0.0608,\n",
       " 'Poder de b_0=0 al 1%': 0.9178,\n",
       " 'Poder de b_1=0.4 al 1%': 1.0,\n",
       " 'Media de b_0': -3.0270782895881743,\n",
       " 'Media de b_1': 0.8011134132211638,\n",
       " 'Mediana de b_0': -3.0202700334175825,\n",
       " 'Mediana de B_1': 0.8013374882246551,\n",
       " 'SE de b_0': 0.7436734140549827,\n",
       " 'SE de b_1': 0.04216884018541226}"
      ]
     },
     "execution_count": 10,
     "metadata": {},
     "output_type": "execute_result"
    }
   ],
   "source": [
    "get_simulation_report(muestras = 5000, N = 100, T = 4)"
   ]
  },
  {
   "cell_type": "code",
   "execution_count": 11,
   "metadata": {},
   "outputs": [
    {
     "data": {
      "text/plain": [
       "{'Tamaño al 1%': 0.0106,\n",
       " 'Tamaño al 5%': 0.0522,\n",
       " 'Poder de b_0=0 al 1%': 0.9992,\n",
       " 'Poder de b_1=0.4 al 1%': 1.0,\n",
       " 'Media de b_0': -3.0121833818669512,\n",
       " 'Media de b_1': 0.8003741800628054,\n",
       " 'Mediana de b_0': -3.0093871530707856,\n",
       " 'Mediana de B_1': 0.8001950138388311,\n",
       " 'SE de b_0': 0.5257704446880094,\n",
       " 'SE de b_1': 0.029826639492396993}"
      ]
     },
     "execution_count": 11,
     "metadata": {},
     "output_type": "execute_result"
    }
   ],
   "source": [
    "get_simulation_report(muestras = 5000, N = 200, T = 4)"
   ]
  },
  {
   "cell_type": "code",
   "execution_count": null,
   "metadata": {},
   "outputs": [],
   "source": [
    "get_simulation_report(muestras = 5000, N = 500, T = 4)"
   ]
  },
  {
   "cell_type": "code",
   "execution_count": 8,
   "metadata": {},
   "outputs": [],
   "source": [
    "# data = get_data(5,4)\n",
    "# y = data['y'].astype(float)\n",
    "# x = data[['cte', 'x']].astype(float)\n",
    "# reg_ols = sm.OLS(y,x).fit()\n",
    "# u_hat = {'i': data['i'], 't': data['t'], 'u_jt': reg_ols.resid.tolist()}\n",
    "# u_hat = pd.DataFrame(data = u_hat)\n",
    "# omg_est = np.zeros((4,4))\n",
    "# for l in range(0, 20,4): \n",
    "#     u_j = np.array([[u_hat['u_jt'][l+i] for i in range(0,4)]]).T\n",
    "#     omg_est = omg_est + u_j.dot(u_j.T)\n",
    "# omg_inv = np.linalg.inv(omg_est)\n",
    "# x = x.to_numpy()\n",
    "# y = y.to_numpy()\n",
    "# x_j = np.asanyarray([[x[i], x[i+1], x[i+2], x[i+3]] for i in range(0,20,4)])\n",
    "# y_j = np.asanyarray([[y[i], y[i+1], y[i+2], y[i+3]] for i in range(0,20,4)])\n",
    "# var_est = np.zeros((2,2), float) #KXK cambiar nombre esta en realidad es la inversa\n",
    "# xT_omg_y = np.zeros((2,1), float) #kx1\n",
    "# for i in range(0,5): \n",
    "#     temp = x_j[i].T.dot(omg_inv).dot(x_j[i])\n",
    "#     var_est = var_est + temp\n",
    "#     temp2 = x_j[i].T.dot(omg_inv).dot(y_j[i])\n",
    "#     xT_omg_y = xT_omg_y + temp2\n",
    "# xT_omg_y = xT_omg_y[1] #Me quedo solo con el primer vector porque numpy hace broadcasting \n",
    "# beta_fgls = np.linalg.inv(var_est).dot(xT_omg_y)\n",
    "# beta_fgls #No son muy diferentes a los ols, me gusta "
   ]
  }
 ],
 "metadata": {
  "interpreter": {
   "hash": "12a1f41f9cdc4d88b1ee063514ed2b0f6ec6d9cd287c610d2ab6d724020c34d3"
  },
  "kernelspec": {
   "display_name": "Python 3.9.7 ('base')",
   "language": "python",
   "name": "python3"
  },
  "language_info": {
   "codemirror_mode": {
    "name": "ipython",
    "version": 3
   },
   "file_extension": ".py",
   "mimetype": "text/x-python",
   "name": "python",
   "nbconvert_exporter": "python",
   "pygments_lexer": "ipython3",
   "version": "3.9.7"
  },
  "orig_nbformat": 4
 },
 "nbformat": 4,
 "nbformat_minor": 2
}
