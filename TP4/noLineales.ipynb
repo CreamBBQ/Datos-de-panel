{
 "cells": [
  {
   "cell_type": "code",
   "execution_count": null,
   "metadata": {
    "vscode": {
     "languageId": "r"
    }
   },
   "outputs": [],
   "source": [
    "rm(list = ls())\n",
    "setwd(\"/home/creambbq/facu/Datos de panel/TP4\")\n",
    "library(\"haven\"); library(\"plm\"); library(\"dplyr\"); library(\"pglm\");\n",
    "data <- read_dta('keane.dta')\n",
    "\n",
    "#Solo hombres negros y creo la variable employ rezagada un periodo \n",
    "data <- data %>% \n",
    "  filter(black == 1) %>% \n",
    "  group_by(id) %>% \n",
    "  mutate(employ_lag = dplyr::lag(employ))"
   ]
  },
  {
   "cell_type": "markdown",
   "metadata": {},
   "source": [
    "### Ejercicio 2.A"
   ]
  },
  {
   "cell_type": "code",
   "execution_count": 4,
   "metadata": {
    "vscode": {
     "languageId": "r"
    }
   },
   "outputs": [
    {
     "data": {
      "text/plain": [
       "--------------------------------------------\n",
       "Maximum Likelihood estimation\n",
       "BFGS maximization, 21 iterations\n",
       "Return code 0: successful convergence \n",
       "Log-Likelihood: -2282.448 \n",
       "2  free parameters\n",
       "Estimates:\n",
       "            Estimate Std. error t value Pr(> t)    \n",
       "(Intercept) -0.54008    0.02795  -19.32  <2e-16 ***\n",
       "employ_lag   1.38717    0.04340   31.96  <2e-16 ***\n",
       "---\n",
       "Signif. codes:  0 ‘***’ 0.001 ‘**’ 0.01 ‘*’ 0.05 ‘.’ 0.1 ‘ ’ 1\n",
       "--------------------------------------------"
      ]
     },
     "metadata": {},
     "output_type": "display_data"
    }
   ],
   "source": [
    "pdata <- pdata.frame(data, index = c(\"id\", \"year\")) #Equiv. a declarar el panel en Stata\n",
    "probit <- pglm(employ ~ employ_lag, \n",
    "               family = binomial(\"probit\"), \n",
    "               model = \"pooling\", \n",
    "               method = \"bfgs\",\n",
    "               data = pdata)\n",
    "summary(probit)"
   ]
  },
  {
   "cell_type": "markdown",
   "metadata": {},
   "source": [
    "### Ejercicio 2.B "
   ]
  },
  {
   "cell_type": "code",
   "execution_count": 5,
   "metadata": {
    "vscode": {
     "languageId": "r"
    }
   },
   "outputs": [
    {
     "data": {
      "text/html": [
       "<strong>(Intercept):</strong> 0.801526297095478"
      ],
      "text/latex": [
       "\\textbf{(Intercept):} 0.801526297095478"
      ],
      "text/markdown": [
       "**(Intercept):** 0.801526297095478"
      ],
      "text/plain": [
       "(Intercept) \n",
       "  0.8015263 "
      ]
     },
     "metadata": {},
     "output_type": "display_data"
    }
   ],
   "source": [
    "#P[employ_it=1|employ_it-1=1] = pnorm(delta + rho*1)\n",
    "pnorm(probit$estimate[1]+probit$estimate[2])\n",
    "\n"
   ]
  },
  {
   "cell_type": "code",
   "execution_count": 6,
   "metadata": {
    "vscode": {
     "languageId": "r"
    }
   },
   "outputs": [
    {
     "data": {
      "text/html": [
       "<strong>(Intercept):</strong> 0.294570386305299"
      ],
      "text/latex": [
       "\\textbf{(Intercept):} 0.294570386305299"
      ],
      "text/markdown": [
       "**(Intercept):** 0.294570386305299"
      ],
      "text/plain": [
       "(Intercept) \n",
       "  0.2945704 "
      ]
     },
     "metadata": {},
     "output_type": "display_data"
    }
   ],
   "source": [
    "#P[employ_it=1|employ_it-1=0] = pnorm(delta)\n",
    "pnorm(probit$estimate[1])"
   ]
  },
  {
   "cell_type": "markdown",
   "metadata": {},
   "source": [
    "### Ejercicio 2.C"
   ]
  },
  {
   "cell_type": "code",
   "execution_count": 7,
   "metadata": {
    "vscode": {
     "languageId": "r"
    }
   },
   "outputs": [
    {
     "data": {
      "text/plain": [
       "--------------------------------------------\n",
       "Maximum Likelihood estimation\n",
       "BFGS maximization, 48 iterations\n",
       "Return code 0: successful convergence \n",
       "Log-Likelihood: -2248.844 \n",
       "7  free parameters\n",
       "Estimates:\n",
       "            Estimate Std. error t value  Pr(> t)    \n",
       "(Intercept) -0.88271    0.05479 -16.109  < 2e-16 ***\n",
       "employ_lag   1.31813    0.04503  29.272  < 2e-16 ***\n",
       "y83          0.34210    0.07403   4.621 3.81e-06 ***\n",
       "y84          0.45179    0.07473   6.046 1.49e-09 ***\n",
       "y85          0.52448    0.07589   6.911 4.82e-12 ***\n",
       "y86          0.39079    0.07677   5.090 3.57e-07 ***\n",
       "y87          0.52861    0.07673   6.889 5.61e-12 ***\n",
       "---\n",
       "Signif. codes:  0 ‘***’ 0.001 ‘**’ 0.01 ‘*’ 0.05 ‘.’ 0.1 ‘ ’ 1\n",
       "--------------------------------------------"
      ]
     },
     "metadata": {},
     "output_type": "display_data"
    }
   ],
   "source": [
    "probit2 <- pglm(employ ~ employ_lag +  y83 + y84 + y85 + y86 + y87, \n",
    "                family = binomial(\"probit\"), \n",
    "                model = \"pooling\", \n",
    "                method = \"bfgs\",\n",
    "                data = pdata)\n",
    "summary(probit2)"
   ]
  },
  {
   "cell_type": "code",
   "execution_count": 8,
   "metadata": {
    "vscode": {
     "languageId": "r"
    }
   },
   "outputs": [
    {
     "data": {
      "text/html": [
       "<strong>(Intercept):</strong> 0.915541807081669"
      ],
      "text/latex": [
       "\\textbf{(Intercept):} 0.915541807081669"
      ],
      "text/markdown": [
       "**(Intercept):** 0.915541807081669"
      ],
      "text/plain": [
       "(Intercept) \n",
       "  0.9155418 "
      ]
     },
     "metadata": {},
     "output_type": "display_data"
    }
   ],
   "source": [
    "#P[employ_i87=1|employ_it-1=1] = pnorm(delta + rho*1 + d87)\n",
    "pnorm(probit$estimate[1]+probit$estimate[2]+probit2$estimate[7])"
   ]
  },
  {
   "cell_type": "code",
   "execution_count": 9,
   "metadata": {
    "vscode": {
     "languageId": "r"
    }
   },
   "outputs": [
    {
     "data": {
      "text/html": [
       "<strong>(Intercept):</strong> 0.495422965654559"
      ],
      "text/latex": [
       "\\textbf{(Intercept):} 0.495422965654559"
      ],
      "text/markdown": [
       "**(Intercept):** 0.495422965654559"
      ],
      "text/plain": [
       "(Intercept) \n",
       "   0.495423 "
      ]
     },
     "metadata": {},
     "output_type": "display_data"
    }
   ],
   "source": [
    "#P[employ_it=1|employ_it-1=0] = pnorm(delta + rho*0 + d87)\n",
    "pnorm(probit$estimate[1]+probit2$estimate[7])"
   ]
  },
  {
   "cell_type": "markdown",
   "metadata": {},
   "source": [
    "### Ejercicio 2.D\n"
   ]
  },
  {
   "cell_type": "code",
   "execution_count": 10,
   "metadata": {
    "vscode": {
     "languageId": "r"
    }
   },
   "outputs": [
    {
     "data": {
      "text/plain": [
       "--------------------------------------------\n",
       "Maximum Likelihood estimation\n",
       "BFGS maximization, 63 iterations\n",
       "Return code 0: successful convergence \n",
       "Log-Likelihood: -2208.745 \n",
       "9  free parameters\n",
       "Estimates:\n",
       "            Estimate Std. error t value  Pr(> t)    \n",
       "(Intercept) -1.00344    0.06526 -15.376  < 2e-16 ***\n",
       "employ_lag   0.89149    0.06722  13.262  < 2e-16 ***\n",
       "employ_81    0.57189    0.08812   6.490 8.60e-11 ***\n",
       "y83          0.43415    0.07946   5.464 4.67e-08 ***\n",
       "y84          0.65075    0.08327   7.815 5.49e-15 ***\n",
       "y85          0.79825    0.08784   9.088  < 2e-16 ***\n",
       "y86          0.68967    0.08947   7.708 1.27e-14 ***\n",
       "y87          0.84014    0.09046   9.287  < 2e-16 ***\n",
       "sigma        0.55854    0.05491  10.173  < 2e-16 ***\n",
       "---\n",
       "Signif. codes:  0 ‘***’ 0.001 ‘**’ 0.01 ‘*’ 0.05 ‘.’ 0.1 ‘ ’ 1\n",
       "--------------------------------------------"
      ]
     },
     "metadata": {},
     "output_type": "display_data"
    }
   ],
   "source": [
    "data <- data %>% group_by(id) %>% mutate(employ_81 = sum(employ*y81))\n",
    "pdata <- pdata.frame(data, index = c(\"id\", \"year\")) # Defino el panel de nuevo\n",
    "probit3 <- pglm(employ ~ employ_lag + employ_81 + y83 + y84 + y85 + y86 + y87, \n",
    "                family = binomial(\"probit\"), \n",
    "                model = \"random\", \n",
    "                method = \"bfgs\",\n",
    "                data = pdata)\n",
    "summary(probit3)"
   ]
  },
  {
   "cell_type": "markdown",
   "metadata": {},
   "source": [
    "### Ejercicio 2.F"
   ]
  },
  {
   "cell_type": "code",
   "execution_count": 11,
   "metadata": {
    "vscode": {
     "languageId": "r"
    }
   },
   "outputs": [],
   "source": [
    "delta <- probit3$estimate[1] \n",
    "rho <- probit3$estimate[2]\n",
    "eps_81 <- probit3$estimate[3]\n",
    "gamma_87 <- probit3$estimate[8] #Coeficiente de dummy de tiempo \n",
    "sigma_de <- (summary(probit3)$estimate[9,1]) #idéntico al sigma_u que reporta STATA en Probit RE"
   ]
  },
  {
   "cell_type": "code",
   "execution_count": 12,
   "metadata": {
    "vscode": {
     "languageId": "r"
    }
   },
   "outputs": [
    {
     "data": {
      "text/html": [
       "<table class=\"dataframe\">\n",
       "<caption>A tibble: 1 × 1</caption>\n",
       "<thead>\n",
       "\t<tr><th scope=col>p</th></tr>\n",
       "\t<tr><th scope=col>&lt;dbl&gt;</th></tr>\n",
       "</thead>\n",
       "<tbody>\n",
       "\t<tr><td>0.7676615</td></tr>\n",
       "</tbody>\n",
       "</table>\n"
      ],
      "text/latex": [
       "A tibble: 1 × 1\n",
       "\\begin{tabular}{l}\n",
       " p\\\\\n",
       " <dbl>\\\\\n",
       "\\hline\n",
       "\t 0.7676615\\\\\n",
       "\\end{tabular}\n"
      ],
      "text/markdown": [
       "\n",
       "A tibble: 1 × 1\n",
       "\n",
       "| p &lt;dbl&gt; |\n",
       "|---|\n",
       "| 0.7676615 |\n",
       "\n"
      ],
      "text/plain": [
       "  p        \n",
       "1 0.7676615"
      ]
     },
     "metadata": {},
     "output_type": "display_data"
    }
   ],
   "source": [
    "data %>% ungroup() %>%\n",
    "  filter(year == 87) %>% \n",
    "  mutate(step1 = delta + \n",
    "         rho + \n",
    "         eps_81*employ_81+\n",
    "         gamma_87, \n",
    "         step2 = step1/sqrt(1+sigma_de^2), \n",
    "         pm = pnorm(step2)) %>% \n",
    "  summarise(p = mean(pm))"
   ]
  },
  {
   "cell_type": "code",
   "execution_count": 13,
   "metadata": {
    "vscode": {
     "languageId": "r"
    }
   },
   "outputs": [
    {
     "data": {
      "text/html": [
       "<table class=\"dataframe\">\n",
       "<caption>A tibble: 1 × 1</caption>\n",
       "<thead>\n",
       "\t<tr><th scope=col>p</th></tr>\n",
       "\t<tr><th scope=col>&lt;dbl&gt;</th></tr>\n",
       "</thead>\n",
       "<tbody>\n",
       "\t<tr><td>0.4872999</td></tr>\n",
       "</tbody>\n",
       "</table>\n"
      ],
      "text/latex": [
       "A tibble: 1 × 1\n",
       "\\begin{tabular}{l}\n",
       " p\\\\\n",
       " <dbl>\\\\\n",
       "\\hline\n",
       "\t 0.4872999\\\\\n",
       "\\end{tabular}\n"
      ],
      "text/markdown": [
       "\n",
       "A tibble: 1 × 1\n",
       "\n",
       "| p &lt;dbl&gt; |\n",
       "|---|\n",
       "| 0.4872999 |\n",
       "\n"
      ],
      "text/plain": [
       "  p        \n",
       "1 0.4872999"
      ]
     },
     "metadata": {},
     "output_type": "display_data"
    }
   ],
   "source": [
    "data %>% ungroup() %>%\n",
    "  filter(year == 87) %>% \n",
    "  mutate(step1 = delta + \n",
    "           eps_81*employ_81+\n",
    "           gamma_87, \n",
    "         step2 = step1/sqrt(1+sigma_de^2), \n",
    "         pm = pnorm(step2)) %>% \n",
    "  summarise(p = mean(pm))"
   ]
  }
 ],
 "metadata": {
  "kernelspec": {
   "display_name": "R",
   "language": "R",
   "name": "ir"
  },
  "language_info": {
   "codemirror_mode": "r",
   "file_extension": ".r",
   "mimetype": "text/x-r-source",
   "name": "R",
   "pygments_lexer": "r",
   "version": "4.2.1"
  },
  "orig_nbformat": 4,
  "vscode": {
   "interpreter": {
    "hash": "916dbcbb3f70747c44a77c7bcd40155683ae19c65e1c03b4aa3499c5328201f1"
   }
  }
 },
 "nbformat": 4,
 "nbformat_minor": 2
}
