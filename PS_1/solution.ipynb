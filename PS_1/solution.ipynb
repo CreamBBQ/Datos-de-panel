{
 "cells": [
  {
   "cell_type": "code",
   "execution_count": null,
   "metadata": {},
   "outputs": [],
   "source": [
    "import pandas as pd \n",
    "import numpy as np\n",
    "import statsmodels.api as sm\n",
    "import scipy.linalg"
   ]
  },
  {
   "cell_type": "code",
   "execution_count": null,
   "metadata": {},
   "outputs": [],
   "source": [
    "df = pd.read_stata('cornwell.dta')\n",
    "df = df.assign(cte = 1)\n",
    "df = df[['county', 'year', 'lcrmrte','lprbarr', 'lprbconv', 'lprbpris', 'lavgsen', 'lpolpc']].assign(cte = 1)\n",
    "df = df.dropna()\n",
    "df = pd.concat([df, pd.get_dummies(df['year'])], axis = 1 )\n",
    "x = df[['cte', 'lprbarr', 'lprbconv', 'lprbpris', 'lavgsen', 'lpolpc']]\n",
    "x = pd.concat([x, pd.get_dummies(df['year'])], axis = 1 )\n",
    "y = df['lcrmrte']"
   ]
  },
  {
   "cell_type": "markdown",
   "metadata": {},
   "source": [
    "OLS COMÚN"
   ]
  },
  {
   "cell_type": "code",
   "execution_count": null,
   "metadata": {},
   "outputs": [],
   "source": [
    "pols = sm.OLS(y,x).fit()\n",
    "pols.summary()\n"
   ]
  },
  {
   "cell_type": "markdown",
   "metadata": {},
   "source": [
    "Errores estandar robustos a la presencia de heterocedasticidad"
   ]
  },
  {
   "cell_type": "code",
   "execution_count": null,
   "metadata": {},
   "outputs": [],
   "source": [
    "pols_rob = sm.OLS(y,x).fit(cov_type='HC3')\n",
    "pols_rob.summary()"
   ]
  },
  {
   "cell_type": "markdown",
   "metadata": {},
   "source": [
    "## Ejercicio Número 3"
   ]
  },
  {
   "cell_type": "code",
   "execution_count": null,
   "metadata": {},
   "outputs": [],
   "source": [
    "np.random.seed(1313)\n",
    "n = 5 \n",
    "T = 2\n",
    "omg = np.array([[1,0], [0,4]])\n",
    "muestras = 1000\n",
    "data = {'i': [], 't': [], 'y': [], 'cte':[] , 'x': [], 'u': []}\n",
    "\n",
    "\n",
    "for i in range(1,n+1) : \n",
    "    for t in range(1,T+1) : \n",
    "        data['cte'].append(1)\n",
    "        data['i'].append(i)\n",
    "        data['t'].append(t)\n",
    "        x = np.random.uniform(1,20,1)\n",
    "        x = x.astype(float)\n",
    "        u = np.random.normal(0,omg.item(t-1,t-1))\n",
    "        data['x'].append(x)\n",
    "        data['u'].append(u)\n",
    "        data['y'].append(1 + x + u)\n",
    "\n",
    "\n",
    "data = pd.DataFrame(data=data)\n",
    "y = data['y'].astype(float)\n",
    "x = data[['cte', 'x']].astype(float)"
   ]
  },
  {
   "cell_type": "code",
   "execution_count": null,
   "metadata": {},
   "outputs": [],
   "source": [
    "reg_ols = sm.OLS(y,x).fit()"
   ]
  },
  {
   "cell_type": "code",
   "execution_count": null,
   "metadata": {},
   "outputs": [],
   "source": [
    "u_hat = {'i': data['i'], 't': data['t'], 'u_jt': reg_ols.resid.tolist()}\n",
    "u_hat = pd.DataFrame(data = u_hat)"
   ]
  },
  {
   "cell_type": "code",
   "execution_count": null,
   "metadata": {},
   "outputs": [],
   "source": [
    "omg_est = np.array([[0,0], [0,0]])\n",
    "for l in range(0,n*T-1): \n",
    "    u_j = np.array([[u_hat['u_jt'][l]], [u_hat['u_jt'][l+1]]])\n",
    "    omg_est = omg_est + u_j.dot(u_j.T)\n",
    "omg_inv = np.linalg.inv(omg_est)\n"
   ]
  },
  {
   "cell_type": "code",
   "execution_count": null,
   "metadata": {},
   "outputs": [],
   "source": [
    "#x = x.to_numpy()\n",
    "#y = y.to_numpy()\n",
    "x_j = np.asanyarray([[x[i], x[i+1]] for i in range(0,n*T,2)])\n",
    "y_j = np.asanyarray([[y[i], y[i+1]] for i in range(0,n*T,2)])\n",
    "var_est = np.zeros((2,2), float) #KXK cambiar nombre esta en realidad es la inversa\n",
    "xT_omg_y = np.zeros((2,1), float) #kx1\n",
    "for i in range(0,n): \n",
    "    temp = x_j[i].T.dot(omg_inv).dot(x_j[i])\n",
    "    var_est = var_est + temp\n",
    "    temp2 = x_j[i].T.dot(omg_inv).dot(y_j[i])\n",
    "    xT_omg_y = xT_omg_y + temp2\n",
    "xT_omg_y = xT_omg_y[1] #Me quedo solo con el primer vector porque numpy hace broadcasting \n",
    "beta_fgls = np.linalg.inv(var_est).dot(xT_omg_y)\n",
    "beta_fgls #No son muy diferentes a los ols, me gusta "
   ]
  },
  {
   "cell_type": "code",
   "execution_count": 44,
   "metadata": {},
   "outputs": [
    {
     "name": "stderr",
     "output_type": "stream",
     "text": [
      "/home/creambbq/anaconda3/lib/python3.9/site-packages/scipy/stats/stats.py:1541: UserWarning: kurtosistest only valid for n>=20 ... continuing anyway, n=10\n",
      "  warnings.warn(\"kurtosistest only valid for n>=20 ... continuing \"\n"
     ]
    },
    {
     "data": {
      "text/html": [
       "<table class=\"simpletable\">\n",
       "<caption>GLS Regression Results</caption>\n",
       "<tr>\n",
       "  <th>Dep. Variable:</th>            <td>y</td>        <th>  R-squared:         </th> <td>   0.892</td>\n",
       "</tr>\n",
       "<tr>\n",
       "  <th>Model:</th>                   <td>GLS</td>       <th>  Adj. R-squared:    </th> <td>   0.878</td>\n",
       "</tr>\n",
       "<tr>\n",
       "  <th>Method:</th>             <td>Least Squares</td>  <th>  F-statistic:       </th> <td>   66.04</td>\n",
       "</tr>\n",
       "<tr>\n",
       "  <th>Date:</th>             <td>Sat, 16 Apr 2022</td> <th>  Prob (F-statistic):</th> <td>3.90e-05</td>\n",
       "</tr>\n",
       "<tr>\n",
       "  <th>Time:</th>                 <td>11:28:57</td>     <th>  Log-Likelihood:    </th> <td> -20.246</td>\n",
       "</tr>\n",
       "<tr>\n",
       "  <th>No. Observations:</th>      <td>    10</td>      <th>  AIC:               </th> <td>   44.49</td>\n",
       "</tr>\n",
       "<tr>\n",
       "  <th>Df Residuals:</th>          <td>     8</td>      <th>  BIC:               </th> <td>   45.10</td>\n",
       "</tr>\n",
       "<tr>\n",
       "  <th>Df Model:</th>              <td>     1</td>      <th>                     </th>     <td> </td>   \n",
       "</tr>\n",
       "<tr>\n",
       "  <th>Covariance Type:</th>      <td>nonrobust</td>    <th>                     </th>     <td> </td>   \n",
       "</tr>\n",
       "</table>\n",
       "<table class=\"simpletable\">\n",
       "<tr>\n",
       "   <td></td>      <th>coef</th>     <th>std err</th>      <th>t</th>      <th>P>|t|</th>  <th>[0.025</th>    <th>0.975]</th>  \n",
       "</tr>\n",
       "<tr>\n",
       "  <th>cte</th> <td>    2.2509</td> <td>    1.846</td> <td>    1.219</td> <td> 0.257</td> <td>   -2.007</td> <td>    6.508</td>\n",
       "</tr>\n",
       "<tr>\n",
       "  <th>x</th>   <td>    0.9857</td> <td>    0.121</td> <td>    8.127</td> <td> 0.000</td> <td>    0.706</td> <td>    1.265</td>\n",
       "</tr>\n",
       "</table>\n",
       "<table class=\"simpletable\">\n",
       "<tr>\n",
       "  <th>Omnibus:</th>       <td> 9.914</td> <th>  Durbin-Watson:     </th> <td>   1.765</td>\n",
       "</tr>\n",
       "<tr>\n",
       "  <th>Prob(Omnibus):</th> <td> 0.007</td> <th>  Jarque-Bera (JB):  </th> <td>   4.200</td>\n",
       "</tr>\n",
       "<tr>\n",
       "  <th>Skew:</th>          <td> 1.371</td> <th>  Prob(JB):          </th> <td>   0.122</td>\n",
       "</tr>\n",
       "<tr>\n",
       "  <th>Kurtosis:</th>      <td> 4.602</td> <th>  Cond. No.          </th> <td>    44.4</td>\n",
       "</tr>\n",
       "</table><br/><br/>Notes:<br/>[1] Standard Errors assume that the covariance matrix of the errors is correctly specified."
      ],
      "text/plain": [
       "<class 'statsmodels.iolib.summary.Summary'>\n",
       "\"\"\"\n",
       "                            GLS Regression Results                            \n",
       "==============================================================================\n",
       "Dep. Variable:                      y   R-squared:                       0.892\n",
       "Model:                            GLS   Adj. R-squared:                  0.878\n",
       "Method:                 Least Squares   F-statistic:                     66.04\n",
       "Date:                Sat, 16 Apr 2022   Prob (F-statistic):           3.90e-05\n",
       "Time:                        11:28:57   Log-Likelihood:                -20.246\n",
       "No. Observations:                  10   AIC:                             44.49\n",
       "Df Residuals:                       8   BIC:                             45.10\n",
       "Df Model:                           1                                         \n",
       "Covariance Type:            nonrobust                                         \n",
       "==============================================================================\n",
       "                 coef    std err          t      P>|t|      [0.025      0.975]\n",
       "------------------------------------------------------------------------------\n",
       "cte            2.2509      1.846      1.219      0.257      -2.007       6.508\n",
       "x              0.9857      0.121      8.127      0.000       0.706       1.265\n",
       "==============================================================================\n",
       "Omnibus:                        9.914   Durbin-Watson:                   1.765\n",
       "Prob(Omnibus):                  0.007   Jarque-Bera (JB):                4.200\n",
       "Skew:                           1.371   Prob(JB):                        0.122\n",
       "Kurtosis:                       4.602   Cond. No.                         44.4\n",
       "==============================================================================\n",
       "\n",
       "Notes:\n",
       "[1] Standard Errors assume that the covariance matrix of the errors is correctly specified.\n",
       "\"\"\""
      ]
     },
     "execution_count": 44,
     "metadata": {},
     "output_type": "execute_result"
    }
   ],
   "source": [
    "b = omg_est.reshape(1,T,T).repeat((n*T/2),axis=0)\n",
    "prueba = scipy.linalg.block_diag(*b)\n",
    "prueba = pd.DataFrame(prueba)\n",
    "y = data['y'].astype(float)\n",
    "x = data[['cte', 'x']].astype(float)\n",
    "fgls = sm.GLS(y,x,prueba).fit()\n",
    "fgls.summary()"
   ]
  },
  {
   "cell_type": "code",
   "execution_count": null,
   "metadata": {},
   "outputs": [],
   "source": [
    "test = np.array([[31.24440301, -0.95044039,0.,0.,0.,0.,0.,0.,0.,0.], \n",
    "         [-0.95044039, 24.67852892,0.,0.,0.,0.,0.,0.,0.,0.],\n",
    "         [0.,0.,31.24440301, -0.95044039,0.,0.,0.,0.,0.,0.], \n",
    "         [0.,0.,-0.95044039, 24.67852892,0.,0.,0.,0.,0.,0.],\n",
    "         [0.,0.,0.,0.,31.24440301, -0.95044039,0.,0.,0.,0.], \n",
    "         [0.,0.,0.,0.,-0.95044039, 24.67852892,0.,0.,0.,0.],\n",
    "         [0.,0.,0.,0.,0.,0.,31.24440301, -0.95044039,0.,0.], \n",
    "         [0.,0.,0.,0.,0.,0.,-0.95044039, 24.67852892,0.,0.],\n",
    "         [0.,0.,0.,0.,0.,0.,0.,0.,31.24440301, -0.95044039], \n",
    "         [0.,0.,0.,0.,0.,0.,0.,0.,-0.95044039, 24.67852892]])\n",
    "test = pd.DataFrame(test)"
   ]
  },
  {
   "cell_type": "code",
   "execution_count": null,
   "metadata": {},
   "outputs": [],
   "source": [
    "y = data['y'].astype(float)\n",
    "x = data[['cte', 'x']].astype(float)"
   ]
  },
  {
   "cell_type": "code",
   "execution_count": null,
   "metadata": {},
   "outputs": [],
   "source": [
    "fgls = sm.GLS(y,x,test).fit()\n",
    "fgls.summary()"
   ]
  },
  {
   "cell_type": "code",
   "execution_count": 45,
   "metadata": {},
   "outputs": [
    {
     "data": {
      "text/plain": [
       "array([2.25092463, 0.98571238])"
      ]
     },
     "execution_count": 45,
     "metadata": {},
     "output_type": "execute_result"
    }
   ],
   "source": [
    "beta_fgls"
   ]
  }
 ],
 "metadata": {
  "interpreter": {
   "hash": "12a1f41f9cdc4d88b1ee063514ed2b0f6ec6d9cd287c610d2ab6d724020c34d3"
  },
  "kernelspec": {
   "display_name": "Python 3.9.7 ('base')",
   "language": "python",
   "name": "python3"
  },
  "language_info": {
   "codemirror_mode": {
    "name": "ipython",
    "version": 3
   },
   "file_extension": ".py",
   "mimetype": "text/x-python",
   "name": "python",
   "nbconvert_exporter": "python",
   "pygments_lexer": "ipython3",
   "version": "3.9.7"
  },
  "orig_nbformat": 4
 },
 "nbformat": 4,
 "nbformat_minor": 2
}
