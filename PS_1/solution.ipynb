{
 "cells": [
  {
   "cell_type": "code",
   "execution_count": null,
   "metadata": {},
   "outputs": [],
   "source": [
    "import pandas as pd \n",
    "import numpy as np\n",
    "import statsmodels.api as sm\n",
    "import scipy.linalg"
   ]
  },
  {
   "cell_type": "code",
   "execution_count": null,
   "metadata": {},
   "outputs": [],
   "source": [
    "df = pd.read_stata('cornwell.dta')\n",
    "df = df.assign(cte = 1)\n",
    "df = df[['county', 'year', 'lcrmrte','lprbarr', 'lprbconv', 'lprbpris', 'lavgsen', 'lpolpc']].assign(cte = 1)\n",
    "df = df.dropna()\n",
    "df = pd.concat([df, pd.get_dummies(df['year'])], axis = 1 )\n",
    "x = df[['cte', 'lprbarr', 'lprbconv', 'lprbpris', 'lavgsen', 'lpolpc']]\n",
    "x = pd.concat([x, pd.get_dummies(df['year'])], axis = 1 )\n",
    "y = df['lcrmrte']"
   ]
  },
  {
   "cell_type": "markdown",
   "metadata": {},
   "source": [
    "OLS COMÚN"
   ]
  },
  {
   "cell_type": "code",
   "execution_count": null,
   "metadata": {},
   "outputs": [],
   "source": [
    "pols = sm.OLS(y,x).fit()\n",
    "pols.summary()\n"
   ]
  },
  {
   "cell_type": "markdown",
   "metadata": {},
   "source": [
    "Errores estandar robustos a la presencia de heterocedasticidad"
   ]
  },
  {
   "cell_type": "code",
   "execution_count": null,
   "metadata": {},
   "outputs": [],
   "source": [
    "pols_rob = sm.OLS(y,x).fit(cov_type='HC3')\n",
    "pols_rob.summary()"
   ]
  },
  {
   "cell_type": "markdown",
   "metadata": {},
   "source": [
    "## Ejercicio Número 3"
   ]
  },
  {
   "cell_type": "code",
   "execution_count": 12,
   "metadata": {},
   "outputs": [],
   "source": [
    "np.random.seed(1313)\n",
    "n = 5 \n",
    "T = 2\n",
    "omg = np.array([[1,0], [0,4]])\n",
    "muestras = 1000\n",
    "data = {'i': [], 't': [], 'y': [], 'cte':[] , 'x': [], 'u': []}\n",
    "\n",
    "\n",
    "for i in range(1,n+1) : \n",
    "    for t in range(1,T+1) : \n",
    "        data['cte'].append(1)\n",
    "        data['i'].append(i)\n",
    "        data['t'].append(t)\n",
    "        x = np.random.uniform(1,20,1)\n",
    "        x = x.astype(float)\n",
    "        u = np.random.normal(0,omg.item(t-1,t-1))\n",
    "        data['x'].append(x)\n",
    "        data['u'].append(u)\n",
    "        data['y'].append(1 + x + u)\n",
    "\n",
    "\n",
    "data = pd.DataFrame(data=data)\n",
    "y = data['y'].astype(float)\n",
    "x = data[['cte', 'x']].astype(float)"
   ]
  },
  {
   "cell_type": "code",
   "execution_count": 13,
   "metadata": {},
   "outputs": [],
   "source": [
    "reg_ols = sm.OLS(y,x).fit()"
   ]
  },
  {
   "cell_type": "code",
   "execution_count": 14,
   "metadata": {},
   "outputs": [
    {
     "data": {
      "text/html": [
       "<div>\n",
       "<style scoped>\n",
       "    .dataframe tbody tr th:only-of-type {\n",
       "        vertical-align: middle;\n",
       "    }\n",
       "\n",
       "    .dataframe tbody tr th {\n",
       "        vertical-align: top;\n",
       "    }\n",
       "\n",
       "    .dataframe thead th {\n",
       "        text-align: right;\n",
       "    }\n",
       "</style>\n",
       "<table border=\"1\" class=\"dataframe\">\n",
       "  <thead>\n",
       "    <tr style=\"text-align: right;\">\n",
       "      <th></th>\n",
       "      <th>i</th>\n",
       "      <th>t</th>\n",
       "      <th>u_jt</th>\n",
       "    </tr>\n",
       "  </thead>\n",
       "  <tbody>\n",
       "    <tr>\n",
       "      <th>0</th>\n",
       "      <td>1</td>\n",
       "      <td>1</td>\n",
       "      <td>-2.619755</td>\n",
       "    </tr>\n",
       "    <tr>\n",
       "      <th>1</th>\n",
       "      <td>1</td>\n",
       "      <td>2</td>\n",
       "      <td>-0.951289</td>\n",
       "    </tr>\n",
       "    <tr>\n",
       "      <th>2</th>\n",
       "      <td>2</td>\n",
       "      <td>1</td>\n",
       "      <td>-0.427754</td>\n",
       "    </tr>\n",
       "    <tr>\n",
       "      <th>3</th>\n",
       "      <td>2</td>\n",
       "      <td>2</td>\n",
       "      <td>-0.389934</td>\n",
       "    </tr>\n",
       "    <tr>\n",
       "      <th>4</th>\n",
       "      <td>3</td>\n",
       "      <td>1</td>\n",
       "      <td>-0.548701</td>\n",
       "    </tr>\n",
       "    <tr>\n",
       "      <th>5</th>\n",
       "      <td>3</td>\n",
       "      <td>2</td>\n",
       "      <td>1.604623</td>\n",
       "    </tr>\n",
       "    <tr>\n",
       "      <th>6</th>\n",
       "      <td>4</td>\n",
       "      <td>1</td>\n",
       "      <td>-0.465574</td>\n",
       "    </tr>\n",
       "    <tr>\n",
       "      <th>7</th>\n",
       "      <td>4</td>\n",
       "      <td>2</td>\n",
       "      <td>4.475627</td>\n",
       "    </tr>\n",
       "    <tr>\n",
       "      <th>8</th>\n",
       "      <td>5</td>\n",
       "      <td>1</td>\n",
       "      <td>-0.132044</td>\n",
       "    </tr>\n",
       "    <tr>\n",
       "      <th>9</th>\n",
       "      <td>5</td>\n",
       "      <td>2</td>\n",
       "      <td>-0.545199</td>\n",
       "    </tr>\n",
       "  </tbody>\n",
       "</table>\n",
       "</div>"
      ],
      "text/plain": [
       "   i  t      u_jt\n",
       "0  1  1 -2.619755\n",
       "1  1  2 -0.951289\n",
       "2  2  1 -0.427754\n",
       "3  2  2 -0.389934\n",
       "4  3  1 -0.548701\n",
       "5  3  2  1.604623\n",
       "6  4  1 -0.465574\n",
       "7  4  2  4.475627\n",
       "8  5  1 -0.132044\n",
       "9  5  2 -0.545199"
      ]
     },
     "execution_count": 14,
     "metadata": {},
     "output_type": "execute_result"
    }
   ],
   "source": [
    "u_hat = {'i': data['i'], 't': data['t'], 'u_jt': reg_ols.resid.tolist()}\n",
    "u_hat = pd.DataFrame(data = u_hat)\n",
    "u_hat"
   ]
  },
  {
   "cell_type": "code",
   "execution_count": 16,
   "metadata": {},
   "outputs": [
    {
     "data": {
      "text/plain": [
       "array([[ 7.5813567 , -0.23326474],\n",
       "       [-0.23326474, 23.96028772]])"
      ]
     },
     "execution_count": 16,
     "metadata": {},
     "output_type": "execute_result"
    }
   ],
   "source": [
    "omg_est = np.array([[0,0], [0,0]])\n",
    "for l in range(0,n*T-1,2): \n",
    "    u_j = np.array([[u_hat['u_jt'][l]], [u_hat['u_jt'][l+1]]])\n",
    "    omg_est = omg_est + u_j.dot(u_j.T)\n",
    "omg_est"
   ]
  },
  {
   "cell_type": "code",
   "execution_count": null,
   "metadata": {},
   "outputs": [],
   "source": [
    "#x = x.to_numpy()\n",
    "#y = y.to_numpy()\n",
    "x_j = np.asanyarray([[x[i], x[i+1]] for i in range(0,n*T,2)])\n",
    "y_j = np.asanyarray([[y[i], y[i+1]] for i in range(0,n*T,2)])\n",
    "var_est = np.zeros((2,2), float) #KXK cambiar nombre esta en realidad es la inversa\n",
    "xT_omg_y = np.zeros((2,1), float) #kx1\n",
    "for i in range(0,n): \n",
    "    temp = x_j[i].T.dot(omg_inv).dot(x_j[i])\n",
    "    var_est = var_est + temp\n",
    "    temp2 = x_j[i].T.dot(omg_inv).dot(y_j[i])\n",
    "    xT_omg_y = xT_omg_y + temp2\n",
    "xT_omg_y = xT_omg_y[1] #Me quedo solo con el primer vector porque numpy hace broadcasting \n",
    "beta_fgls = np.linalg.inv(var_est).dot(xT_omg_y)\n",
    "beta_fgls #No son muy diferentes a los ols, me gusta "
   ]
  },
  {
   "cell_type": "code",
   "execution_count": 17,
   "metadata": {},
   "outputs": [
    {
     "name": "stderr",
     "output_type": "stream",
     "text": [
      "/home/creambbq/anaconda3/lib/python3.9/site-packages/scipy/stats/stats.py:1541: UserWarning: kurtosistest only valid for n>=20 ... continuing anyway, n=10\n",
      "  warnings.warn(\"kurtosistest only valid for n>=20 ... continuing \"\n"
     ]
    },
    {
     "data": {
      "text/html": [
       "<table class=\"simpletable\">\n",
       "<caption>GLS Regression Results</caption>\n",
       "<tr>\n",
       "  <th>Dep. Variable:</th>            <td>y</td>        <th>  R-squared:         </th> <td>   0.936</td>\n",
       "</tr>\n",
       "<tr>\n",
       "  <th>Model:</th>                   <td>GLS</td>       <th>  Adj. R-squared:    </th> <td>   0.928</td>\n",
       "</tr>\n",
       "<tr>\n",
       "  <th>Method:</th>             <td>Least Squares</td>  <th>  F-statistic:       </th> <td>   117.4</td>\n",
       "</tr>\n",
       "<tr>\n",
       "  <th>Date:</th>             <td>Sat, 16 Apr 2022</td> <th>  Prob (F-statistic):</th> <td>4.65e-06</td>\n",
       "</tr>\n",
       "<tr>\n",
       "  <th>Time:</th>                 <td>19:09:28</td>     <th>  Log-Likelihood:    </th> <td> -18.555</td>\n",
       "</tr>\n",
       "<tr>\n",
       "  <th>No. Observations:</th>      <td>    10</td>      <th>  AIC:               </th> <td>   41.11</td>\n",
       "</tr>\n",
       "<tr>\n",
       "  <th>Df Residuals:</th>          <td>     8</td>      <th>  BIC:               </th> <td>   41.71</td>\n",
       "</tr>\n",
       "<tr>\n",
       "  <th>Df Model:</th>              <td>     1</td>      <th>                     </th>     <td> </td>   \n",
       "</tr>\n",
       "<tr>\n",
       "  <th>Covariance Type:</th>      <td>nonrobust</td>    <th>                     </th>     <td> </td>   \n",
       "</tr>\n",
       "</table>\n",
       "<table class=\"simpletable\">\n",
       "<tr>\n",
       "   <td></td>      <th>coef</th>     <th>std err</th>      <th>t</th>      <th>P>|t|</th>  <th>[0.025</th>    <th>0.975]</th>  \n",
       "</tr>\n",
       "<tr>\n",
       "  <th>cte</th> <td>    2.4684</td> <td>    1.261</td> <td>    1.958</td> <td> 0.086</td> <td>   -0.439</td> <td>    5.376</td>\n",
       "</tr>\n",
       "<tr>\n",
       "  <th>x</th>   <td>    0.9312</td> <td>    0.086</td> <td>   10.834</td> <td> 0.000</td> <td>    0.733</td> <td>    1.129</td>\n",
       "</tr>\n",
       "</table>\n",
       "<table class=\"simpletable\">\n",
       "<tr>\n",
       "  <th>Omnibus:</th>       <td> 5.452</td> <th>  Durbin-Watson:     </th> <td>   1.645</td>\n",
       "</tr>\n",
       "<tr>\n",
       "  <th>Prob(Omnibus):</th> <td> 0.065</td> <th>  Jarque-Bera (JB):  </th> <td>   1.610</td>\n",
       "</tr>\n",
       "<tr>\n",
       "  <th>Skew:</th>          <td> 0.766</td> <th>  Prob(JB):          </th> <td>   0.447</td>\n",
       "</tr>\n",
       "<tr>\n",
       "  <th>Kurtosis:</th>      <td> 4.232</td> <th>  Cond. No.          </th> <td>    37.0</td>\n",
       "</tr>\n",
       "</table><br/><br/>Notes:<br/>[1] Standard Errors assume that the covariance matrix of the errors is correctly specified."
      ],
      "text/plain": [
       "<class 'statsmodels.iolib.summary.Summary'>\n",
       "\"\"\"\n",
       "                            GLS Regression Results                            \n",
       "==============================================================================\n",
       "Dep. Variable:                      y   R-squared:                       0.936\n",
       "Model:                            GLS   Adj. R-squared:                  0.928\n",
       "Method:                 Least Squares   F-statistic:                     117.4\n",
       "Date:                Sat, 16 Apr 2022   Prob (F-statistic):           4.65e-06\n",
       "Time:                        19:09:28   Log-Likelihood:                -18.555\n",
       "No. Observations:                  10   AIC:                             41.11\n",
       "Df Residuals:                       8   BIC:                             41.71\n",
       "Df Model:                           1                                         \n",
       "Covariance Type:            nonrobust                                         \n",
       "==============================================================================\n",
       "                 coef    std err          t      P>|t|      [0.025      0.975]\n",
       "------------------------------------------------------------------------------\n",
       "cte            2.4684      1.261      1.958      0.086      -0.439       5.376\n",
       "x              0.9312      0.086     10.834      0.000       0.733       1.129\n",
       "==============================================================================\n",
       "Omnibus:                        5.452   Durbin-Watson:                   1.645\n",
       "Prob(Omnibus):                  0.065   Jarque-Bera (JB):                1.610\n",
       "Skew:                           0.766   Prob(JB):                        0.447\n",
       "Kurtosis:                       4.232   Cond. No.                         37.0\n",
       "==============================================================================\n",
       "\n",
       "Notes:\n",
       "[1] Standard Errors assume that the covariance matrix of the errors is correctly specified.\n",
       "\"\"\""
      ]
     },
     "execution_count": 17,
     "metadata": {},
     "output_type": "execute_result"
    }
   ],
   "source": [
    "b = omg_est.reshape(1,T,T).repeat((n*T/2),axis=0)\n",
    "prueba = scipy.linalg.block_diag(*b)\n",
    "prueba = pd.DataFrame(prueba)\n",
    "#y = data['y'].astype(float)\n",
    "#x = data[['cte', 'x']].astype(float)\n",
    "fgls = sm.GLS(y,x,prueba).fit()\n",
    "fgls.summary()"
   ]
  },
  {
   "cell_type": "code",
   "execution_count": null,
   "metadata": {},
   "outputs": [],
   "source": [
    "test = np.array([[31.24440301, -0.95044039,0.,0.,0.,0.,0.,0.,0.,0.], \n",
    "         [-0.95044039, 24.67852892,0.,0.,0.,0.,0.,0.,0.,0.],\n",
    "         [0.,0.,31.24440301, -0.95044039,0.,0.,0.,0.,0.,0.], \n",
    "         [0.,0.,-0.95044039, 24.67852892,0.,0.,0.,0.,0.,0.],\n",
    "         [0.,0.,0.,0.,31.24440301, -0.95044039,0.,0.,0.,0.], \n",
    "         [0.,0.,0.,0.,-0.95044039, 24.67852892,0.,0.,0.,0.],\n",
    "         [0.,0.,0.,0.,0.,0.,31.24440301, -0.95044039,0.,0.], \n",
    "         [0.,0.,0.,0.,0.,0.,-0.95044039, 24.67852892,0.,0.],\n",
    "         [0.,0.,0.,0.,0.,0.,0.,0.,31.24440301, -0.95044039], \n",
    "         [0.,0.,0.,0.,0.,0.,0.,0.,-0.95044039, 24.67852892]])\n",
    "test = pd.DataFrame(test)"
   ]
  },
  {
   "cell_type": "code",
   "execution_count": null,
   "metadata": {},
   "outputs": [],
   "source": [
    "y = data['y'].astype(float)\n",
    "x = data[['cte', 'x']].astype(float)"
   ]
  },
  {
   "cell_type": "code",
   "execution_count": null,
   "metadata": {},
   "outputs": [],
   "source": [
    "fgls = sm.GLS(y,x,test).fit()\n",
    "fgls.summary()"
   ]
  },
  {
   "cell_type": "code",
   "execution_count": 45,
   "metadata": {},
   "outputs": [
    {
     "data": {
      "text/plain": [
       "array([2.25092463, 0.98571238])"
      ]
     },
     "execution_count": 45,
     "metadata": {},
     "output_type": "execute_result"
    }
   ],
   "source": [
    "beta_fgls"
   ]
  }
 ],
 "metadata": {
  "interpreter": {
   "hash": "12a1f41f9cdc4d88b1ee063514ed2b0f6ec6d9cd287c610d2ab6d724020c34d3"
  },
  "kernelspec": {
   "display_name": "Python 3.9.7 ('base')",
   "language": "python",
   "name": "python3"
  },
  "language_info": {
   "codemirror_mode": {
    "name": "ipython",
    "version": 3
   },
   "file_extension": ".py",
   "mimetype": "text/x-python",
   "name": "python",
   "nbconvert_exporter": "python",
   "pygments_lexer": "ipython3",
   "version": "3.9.7"
  },
  "orig_nbformat": 4
 },
 "nbformat": 4,
 "nbformat_minor": 2
}
