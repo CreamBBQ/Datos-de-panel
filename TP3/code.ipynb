{
 "cells": [
  {
   "cell_type": "code",
   "execution_count": null,
   "metadata": {
    "vscode": {
     "languageId": "r"
    }
   },
   "outputs": [],
   "source": [
    "rm(list = ls())\n",
    "library(\"dplyr\")\n",
    "library(\"plm\")\n",
    "library(\"AER\")\n",
    "set.seed(1313)"
   ]
  },
  {
   "cell_type": "code",
   "execution_count": 7,
   "metadata": {
    "vscode": {
     "languageId": "r"
    }
   },
   "outputs": [],
   "source": [
    "get_data <- function(N, TT, alpha, beta){\n",
    "  \n",
    "  df <- setNames(data.frame(matrix(0, ncol = 4, nrow = N*(TT+10))), c(\"j\", \"t\", \"y\", \"x\"))\n",
    "  aux <- 1\n",
    "  \n",
    "  for (j in seq(1:N)){\n",
    "    \n",
    "    start <- j\n",
    "    y <- 0 \n",
    "    x <- rnorm(1,0,0.9)\n",
    "    \n",
    "    for(t in seq(1:(TT+10))){\n",
    "      \n",
    "      c <- rnorm(1,0,1)\n",
    "      u <- rnorm(1,0,1)\n",
    "      v <- rnorm(1,0,0.9)\n",
    "      x <- (0.8)*x + v \n",
    "      y <- (alpha)*y + (beta)*x + c + u\n",
    "      df[aux, ] <- c(j, t, y, x)\n",
    "      aux <- aux + 1\n",
    "      \n",
    "    }\n",
    "    \n",
    "  }\n",
    "  \n",
    "  df <- df %>% group_by(j) %>% \n",
    "    mutate(yL1 = dplyr::lag(y), \n",
    "           yL2 = dplyr::lag(yL1),\n",
    "           xL1 = dplyr::lag(x), \n",
    "           xL2 = dplyr::lag(xL1),\n",
    "           dif_y = c(NA, diff(y)), \n",
    "           dif_yL1 = c(NA, diff(yL1)), \n",
    "           dif_x = c(NA, diff(x)), \n",
    "           dif_xL1 = c(NA, diff(xL1))) %>% \n",
    "    do(tail(., n = 10))\n",
    "  \n",
    "  return(df)\n",
    "  \n",
    "}\n",
    "\n",
    "get_LSDV <- function(data, N, TT, alpha) {\n",
    "  \n",
    "  df <- setNames(data.frame(matrix(0, ncol = 7, nrow = 1)),\n",
    "                 c(\"estimador\", \"alpha\", \"st_alpha\",\n",
    "                   \"beta\", \"st_beta\", \"RMSE\", \"tamano\"))\n",
    "  \n",
    "  LSDV <- plm(y ~ yL1 + x  -1, \n",
    "              data = data, \n",
    "              method = \"within\", \n",
    "              effect = \"individual\")\n",
    "  \n",
    "  pred <- data$yL1*(summary(LSDV)$coefficients[1,1]) +\n",
    "    data$x*(summary(LSDV)$coefficients[2,1])\n",
    "  \n",
    "  t <- (summary(LSDV)$coefficients[1,1] - alpha)/summary(LSDV)$coefficients[1,2]\n",
    "  if ((pt(abs(t), (N*TT-2), lower.tail = FALSE, log.p = FALSE)*2) < 0.05){\n",
    "    tamano_LSDV <- 1\n",
    "  } else { \n",
    "    tamano_LSDV <- 0\n",
    "  }\n",
    "  \n",
    "  \n",
    "  df[1, ] <- c(\"LSDV\", \n",
    "               summary(LSDV)$coefficients[1,1],\n",
    "               summary(LSDV)$coefficients[1,2],\n",
    "               summary(LSDV)$coefficients[2,1],\n",
    "               summary(LSDV)$coefficients[2,2],\n",
    "               sqrt(mean((data$y - pred)^2)), \n",
    "               tamano_LSDV)\n",
    "  return(df)\n",
    "  \n",
    "}\n",
    "\n",
    "get_AB1 <- function(data, N, TT, alpha) { \n",
    "\n",
    "  \n",
    "  pdata <- pdata.frame(data, index = c(\"j\", \"t\"))\n",
    "  \n",
    "  df <- setNames(data.frame(matrix(0, ncol = 7, nrow = 1)),\n",
    "                 c(\"estimador\", \"alpha\", \"st_alpha\",\n",
    "                   \"beta\", \"st_beta\", \"RMSE\", \"tamano\"))\n",
    "  \n",
    "  AB1 <- pgmm(y ~ lag(y, 1) + x |\n",
    "                lag(y, 2:99),\n",
    "              data = pdata,\n",
    "              effect = \"individual\",\n",
    "              model = \"onestep\",\n",
    "              transformation = \"d\",\n",
    "              collapse = FALSE)\n",
    "  \n",
    "  pred <- data$yL1*(summary(AB1)$coefficients[1,1]) +\n",
    "    data$x*(summary(AB1)$coefficients[2,1])\n",
    "  \n",
    "  t <- (summary(AB1)$coefficients[1,1] - alpha)/summary(AB1)$coefficients[1,2]\n",
    "  if ((pt(abs(t), (N*TT-2), lower.tail = FALSE, log.p = FALSE)*2) < 0.05){\n",
    "    tamano_AB1 <- 1\n",
    "  } else { \n",
    "    tamano_AB1 <- 0\n",
    "  }\n",
    "\n",
    "  \n",
    "  df[1, ] <- c(\"AB1\", \n",
    "               summary(AB1)$coefficients[1,1],\n",
    "               summary(AB1)$coefficients[1,2],\n",
    "               summary(AB1)$coefficients[2,1],\n",
    "               summary(AB1)$coefficients[2,2],\n",
    "               sqrt(mean((data$y - pred)^2)), \n",
    "               tamano_AB1)\n",
    "  return(df)\n",
    "  \n",
    "}\n",
    "\n",
    "get_AB2 <- function(data, N, TT, alpha) { \n",
    "  \n",
    "  \n",
    "  pdata <- pdata.frame(data, index = c(\"j\", \"t\"))\n",
    "  \n",
    "  df <- setNames(data.frame(matrix(0, ncol = 7, nrow = 1)),\n",
    "                 c(\"estimador\", \"alpha\", \"st_alpha\",\n",
    "                   \"beta\", \"st_beta\", \"RMSE\", \"tamano\"))\n",
    "  \n",
    "  AB2 <- pgmm(y ~ lag(y, 1) + x |\n",
    "                lag(y, 2:99),\n",
    "              data = pdata,\n",
    "              effect = \"individual\",\n",
    "              model = \"twosteps\",\n",
    "              transformation = \"d\",\n",
    "              collapse = FALSE)\n",
    "  \n",
    "  pred <- data$yL1*(summary(AB2)$coefficients[1,1]) +\n",
    "    data$x*(summary(AB2)$coefficients[2,1])\n",
    "  \n",
    "  t <- (summary(AB2)$coefficients[1,1] - alpha)/summary(AB2)$coefficients[1,2]\n",
    "  if ((pt(abs(t), (N*TT-2), lower.tail = FALSE, log.p = FALSE)*2) < 0.05){\n",
    "    tamano_AB2 <- 1\n",
    "  } else { \n",
    "    tamano_AB2 <- 0\n",
    "  }\n",
    "  \n",
    "  df[1, ] <- c(\"AB2\", \n",
    "               summary(AB2)$coefficients[1,1],\n",
    "               summary(AB2)$coefficients[1,2],\n",
    "               summary(AB2)$coefficients[2,1],\n",
    "               summary(AB2)$coefficients[2,2],\n",
    "               sqrt(mean((data$y - pred)^2)), \n",
    "               tamano_AB2)\n",
    "  return(df)\n",
    "  \n",
    "}\n",
    "\n",
    "get_BB1 <- function(data, N, TT, alpha) {\n",
    "  \n",
    "  pdata <- pdata.frame(data, index = c(\"j\", \"t\"))\n",
    "  df <- setNames(data.frame(matrix(0, ncol = 7, nrow = 1)), \n",
    "                 c(\"estimador\", \"alpha\", \"st_alpha\",\n",
    "                   \"beta\", \"st_beta\", \"RMSE\", \"tamano\"))\n",
    "  \n",
    "  BB1 <- pgmm(y ~ lag(y, 1) + x | \n",
    "                lag(y, 2:99) + lag(x, 1:99),\n",
    "              data = pdata, \n",
    "              effect = \"individual\", \n",
    "              model = \"onestep\", \n",
    "              transformation = \"ld\",\n",
    "              collapse = FALSE)\n",
    "  \n",
    "  pred <- data$yL1*(summary(BB1)$coefficients[1,1]) + \n",
    "    data$x*(summary(BB1)$coefficients[2,1])\n",
    "  \n",
    "  t <- (summary(BB1)$coefficients[1,1] - alpha)/summary(BB1)$coefficients[1,2]\n",
    "  if ((pt(abs(t), (N*TT-2), lower.tail = FALSE, log.p = FALSE)*2) < 0.05){\n",
    "    tamano_BB1 <- 1\n",
    "  } else { \n",
    "    tamano_BB1 <- 0\n",
    "  }\n",
    "  \n",
    "\n",
    "  df[1, ] <- c(\"BB1\", \n",
    "               summary(BB1)$coefficients[1,1],\n",
    "               summary(BB1)$coefficients[1,2],\n",
    "               summary(BB1)$coefficients[2,1],\n",
    "               summary(BB1)$coefficients[2,2],\n",
    "               sqrt(mean((data$y - pred)^2)), \n",
    "               tamano_BB1)\n",
    "  return(df)\n",
    "  \n",
    "}\n",
    "\n",
    "get_AH <- function(data, N, TT, alpha) {\n",
    "  \n",
    "  tamano_AH <- 0\n",
    "  \n",
    "  df <- setNames(data.frame(matrix(0, ncol = 7, nrow = 1)), \n",
    "                 c(\"estimador\", \"alpha\", \"st_alpha\",\n",
    "                   \"beta\", \"st_beta\", \"RMSE\", \"tamano\"))\n",
    "  \n",
    "  pdata <- pdata.frame(data, index = c(\"j\", \"t\"))\n",
    "  \n",
    "  AH <- ivreg(dif_y ~ dif_yL1 + dif_x - 1 | . - dif_yL1 + yL2, \n",
    "              data = pdata)\n",
    "  \n",
    "  t <- (summary(AH)$coefficients[1,1] - alpha)/summary(AH)$coefficients[1,2]\n",
    "  if ((pt(abs(t), (N*TT-2), lower.tail = FALSE, log.p = FALSE)*2) < 0.05){\n",
    "    tamano_AH <- 1\n",
    "  } else { \n",
    "    tamano_AH <- 0\n",
    "  }\n",
    "  \n",
    "  df[1, ] <- c(\"AH\",\n",
    "               summary(AH)$coefficients[1,1],\n",
    "               summary(AH)$coefficients[1,2],\n",
    "               summary(AH)$coefficients[2,1],\n",
    "               summary(AH)$coefficients[2,2],\n",
    "               sqrt(mean((data$y - predict(AH))^2)), \n",
    "               tamano_AH)\n",
    "  return(df)\n",
    "  \n",
    "}\n",
    "\n",
    "get_kiviet <- function(data, N, TT, alpha){\n",
    "  \n",
    "  tamano_kiviet <- 0\n",
    "  df <- setNames(data.frame(matrix(0, ncol = 7, nrow = 1)), \n",
    "                 c(\"estimador\", \"alpha\", \"st_alpha\",\n",
    "                   \"beta\", \"st_beta\", \"RMSE\", \"tamano\"))\n",
    "  pdata <- pdata.frame(data, index = c(\"j\", \"t\"))\n",
    "  kiviet <-lm(y ~ yL1 + x - 1, data=pdata)\n",
    "  alpha_hat <- kiviet$coefficients[1]\n",
    "  beta_hat <- kiviet$coefficients[2]\n",
    "  N <- nrow(data %>% group_by(j) %>% summarise())\n",
    "  t <- nrow(data %>% group_by(t) %>% summarise())\n",
    "  NT <- N*t\n",
    "  k <- 2\n",
    "  \n",
    "  within_data <- data %>% group_by(j) %>%\n",
    "    transmute(ddot_y = y - mean(y, na.rm = TRUE), \n",
    "              ddot_yL1 = yL1 - mean(yL1, na.rm = TRUE), \n",
    "              ddot_x = x - mean(x, na.rm = TRUE)) %>% \n",
    "    do(na.omit(.))\n",
    "  Z <- append(as.vector(within_data$ddot_yL1), \n",
    "              as.vector(within_data$ddot_x))\n",
    "  u_hat <- within_data$ddot_y - \n",
    "    within_data$ddot_yL1 * alpha_hat - \n",
    "    within_data$ddot_x * beta_hat\n",
    "  SRC <- t(u_hat)%*%u_hat\n",
    "  sigma2e <- SRC/(NT-N-t-k+1)\n",
    "  se_a <- sqrt(solve(t(Z)%*%Z)*sigma2e)\n",
    "  se_b <- sqrt(diag(vcov(kiviet)))[2]\n",
    "  \n",
    "  t <- as.numeric((alpha_hat-alpha)/se_a)\n",
    "  if((pt(abs(t), (NT-k), lower.tail = FALSE, log.p = FALSE)*2) < 0.05){\n",
    "    tamano_kiviet <- tamano_kiviet + 1\n",
    "  }\n",
    "  \n",
    "  pred <- data$y*alpha_hat + data$x*beta_hat\n",
    "  \n",
    "  df[1, ] <- c(\"kiviet\", \n",
    "               alpha_hat, \n",
    "               se_a, \n",
    "               beta_hat, \n",
    "               se_b, \n",
    "               sqrt(mean((data$y - pred)^2)), \n",
    "               tamano_kiviet)\n",
    "  return(df)\n",
    "} \n",
    "\n",
    "montecarlo <- function(simulations, N, TT, alpha, beta){\n",
    "  \n",
    "  temp <- list()\n",
    "  \n",
    "  for (n in seq(1:simulations)) {\n",
    "    \n",
    "    #print(n)\n",
    "    data <- get_data(N, TT, alpha, beta)\n",
    "    df <- rbind(get_LSDV(data, N, TT, alpha), \n",
    "                get_AB1(data, N, TT, alpha), \n",
    "                get_AB2(data, N, TT, alpha),\n",
    "                get_BB1(data, N, TT, alpha), \n",
    "                get_AH(data, N, TT, alpha), \n",
    "                get_kiviet(data, N, TT, alpha))\n",
    "    temp[[n]] <- df \n",
    "    \n",
    "  }\n",
    "  \n",
    "  res <- dplyr::bind_rows(temp)\n",
    "  res <- res %>% mutate(across(!estimador, as.numeric)) %>%  \n",
    "    group_by(estimador) %>% summarise(alpha_hat = mean(alpha), \n",
    "                                      st_alpha = mean(st_alpha), \n",
    "                                      beta_hat = mean(beta), \n",
    "                                      st_beta = mean(st_beta), \n",
    "                                      RMSE = mean(RMSE), \n",
    "                                      tamano = mean(tamano))\n",
    "  \n",
    "  return(res)\n",
    "\n",
    "}"
   ]
  },
  {
   "cell_type": "code",
   "execution_count": 8,
   "metadata": {
    "vscode": {
     "languageId": "r"
    }
   },
   "outputs": [
    {
     "name": "stdout",
     "output_type": "stream",
     "text": [
      "\u001b[90m# A tibble: 6 × 7\u001b[39m\n",
      "  estimador alpha_hat st_alpha beta_hat st_beta  RMSE tamano\n",
      "  \u001b[3m\u001b[90m<chr>\u001b[39m\u001b[23m         \u001b[3m\u001b[90m<dbl>\u001b[39m\u001b[23m    \u001b[3m\u001b[90m<dbl>\u001b[39m\u001b[23m    \u001b[3m\u001b[90m<dbl>\u001b[39m\u001b[23m   \u001b[3m\u001b[90m<dbl>\u001b[39m\u001b[23m \u001b[3m\u001b[90m<dbl>\u001b[39m\u001b[23m  \u001b[3m\u001b[90m<dbl>\u001b[39m\u001b[23m\n",
      "\u001b[90m1\u001b[39m AB1           0.439   0.076\u001b[4m1\u001b[24m -\u001b[31m0\u001b[39m\u001b[31m.\u001b[39m\u001b[31m00\u001b[39m\u001b[31m4\u001b[4m1\u001b[24m\u001b[4m0\u001b[24m\u001b[39m  0.126  1.43   0.146\n",
      "\u001b[90m2\u001b[39m AB2           0.435   0.093\u001b[4m1\u001b[24m -\u001b[31m0\u001b[39m\u001b[31m.\u001b[39m\u001b[31m00\u001b[39m\u001b[31m2\u001b[4m9\u001b[24m\u001b[4m8\u001b[24m\u001b[39m  0.149  1.43   0.088\n",
      "\u001b[90m3\u001b[39m AH            0.501   0.142  -\u001b[31m0\u001b[39m\u001b[31m.\u001b[39m\u001b[31m00\u001b[39m\u001b[31m3\u001b[4m5\u001b[24m\u001b[4m7\u001b[24m\u001b[39m  0.123  1.63   0.009\n",
      "\u001b[90m4\u001b[39m BB1           0.485   0.058\u001b[4m2\u001b[24m -\u001b[31m0\u001b[39m\u001b[31m.\u001b[39m\u001b[31m00\u001b[39m\u001b[31m6\u001b[4m8\u001b[24m\u001b[4m1\u001b[24m\u001b[39m  0.073\u001b[4m6\u001b[24m 1.41   0.088\n",
      "\u001b[90m5\u001b[39m kiviet        0.495   0.048\u001b[4m1\u001b[24m -\u001b[31m0\u001b[39m\u001b[31m.\u001b[39m\u001b[31m00\u001b[39m\u001b[31m5\u001b[4m5\u001b[24m\u001b[4m9\u001b[24m\u001b[39m  0.055\u001b[4m1\u001b[24m 0.819  0.064\n",
      "\u001b[90m6\u001b[39m LSDV          0.333   0.057\u001b[4m5\u001b[24m -\u001b[31m0\u001b[39m\u001b[31m.\u001b[39m\u001b[31m00\u001b[39m\u001b[31m6\u001b[4m5\u001b[24m\u001b[4m6\u001b[24m\u001b[39m  0.080\u001b[4m4\u001b[24m 1.44   0.834\n"
     ]
    }
   ],
   "source": [
    "EJ1 <- montecarlo(1000, 30, 10, 0.5, 0)\n",
    "print(EJ1)"
   ]
  },
  {
   "cell_type": "code",
   "execution_count": 9,
   "metadata": {
    "vscode": {
     "languageId": "r"
    }
   },
   "outputs": [
    {
     "name": "stdout",
     "output_type": "stream",
     "text": [
      "\u001b[90m# A tibble: 6 × 7\u001b[39m\n",
      "  estimador alpha_hat st_alpha  beta_hat st_beta  RMSE tamano\n",
      "  \u001b[3m\u001b[90m<chr>\u001b[39m\u001b[23m         \u001b[3m\u001b[90m<dbl>\u001b[39m\u001b[23m    \u001b[3m\u001b[90m<dbl>\u001b[39m\u001b[23m     \u001b[3m\u001b[90m<dbl>\u001b[39m\u001b[23m   \u001b[3m\u001b[90m<dbl>\u001b[39m\u001b[23m \u001b[3m\u001b[90m<dbl>\u001b[39m\u001b[23m  \u001b[3m\u001b[90m<dbl>\u001b[39m\u001b[23m\n",
      "\u001b[90m1\u001b[39m AB1           0.463   0.061\u001b[4m0\u001b[24m -\u001b[31m0\u001b[39m\u001b[31m.\u001b[39m\u001b[31m00\u001b[39m\u001b[31m1\u001b[4m5\u001b[24m\u001b[4m9\u001b[24m\u001b[39m   0.102  1.42   0.103\n",
      "\u001b[90m2\u001b[39m AB2           0.462   0.067\u001b[4m2\u001b[24m -\u001b[31m0\u001b[39m\u001b[31m.\u001b[39m\u001b[31m00\u001b[39m\u001b[31m1\u001b[4m4\u001b[24m\u001b[4m7\u001b[24m\u001b[39m   0.112  1.42   0.089\n",
      "\u001b[90m3\u001b[39m AH            0.500   0.110  -\u001b[31m0\u001b[39m\u001b[31m.\u001b[39m\u001b[31m00\u001b[39m\u001b[31m1\u001b[4m7\u001b[24m\u001b[4m3\u001b[24m\u001b[39m   0.094\u001b[4m7\u001b[24m 1.63   0.011\n",
      "\u001b[90m4\u001b[39m BB1           0.492   0.048\u001b[4m4\u001b[24m  0.001\u001b[4m6\u001b[24m\u001b[4m9\u001b[24m   0.063\u001b[4m6\u001b[24m 1.41   0.058\n",
      "\u001b[90m5\u001b[39m kiviet        0.498   0.036\u001b[4m9\u001b[24m  0.000\u001b[4m1\u001b[24m\u001b[4m6\u001b[24m\u001b[4m5\u001b[24m  0.042\u001b[4m5\u001b[24m 0.817  0.059\n",
      "\u001b[90m6\u001b[39m LSDV          0.335   0.044\u001b[4m5\u001b[24m -\u001b[31m0\u001b[39m\u001b[31m.\u001b[39m\u001b[31m000\u001b[39m\u001b[31m\u001b[4m3\u001b[24m\u001b[4m8\u001b[24m\u001b[4m0\u001b[24m\u001b[39m  0.061\u001b[4m8\u001b[24m 1.44   0.968\n"
     ]
    }
   ],
   "source": [
    "EJ2 <- montecarlo(1000, 50, 10, 0.5, 0)\n",
    "print(EJ2)"
   ]
  },
  {
   "cell_type": "code",
   "execution_count": 10,
   "metadata": {
    "vscode": {
     "languageId": "r"
    }
   },
   "outputs": [
    {
     "name": "stdout",
     "output_type": "stream",
     "text": [
      "\u001b[90m# A tibble: 6 × 7\u001b[39m\n",
      "  estimador alpha_hat st_alpha  beta_hat st_beta  RMSE tamano\n",
      "  \u001b[3m\u001b[90m<chr>\u001b[39m\u001b[23m         \u001b[3m\u001b[90m<dbl>\u001b[39m\u001b[23m    \u001b[3m\u001b[90m<dbl>\u001b[39m\u001b[23m     \u001b[3m\u001b[90m<dbl>\u001b[39m\u001b[23m   \u001b[3m\u001b[90m<dbl>\u001b[39m\u001b[23m \u001b[3m\u001b[90m<dbl>\u001b[39m\u001b[23m  \u001b[3m\u001b[90m<dbl>\u001b[39m\u001b[23m\n",
      "\u001b[90m1\u001b[39m AB1           0.689   0.089\u001b[4m1\u001b[24m  0.001\u001b[4m6\u001b[24m\u001b[4m7\u001b[24m   0.124  1.46   0.252\n",
      "\u001b[90m2\u001b[39m AB2           0.685   0.106   0.000\u001b[4m9\u001b[24m\u001b[4m9\u001b[24m\u001b[4m9\u001b[24m  0.145  1.46   0.175\n",
      "\u001b[90m3\u001b[39m AH            0.810   0.251   0.002\u001b[4m1\u001b[24m\u001b[4m4\u001b[24m   0.125  2.35   0.001\n",
      "\u001b[90m4\u001b[39m BB1           0.782   0.047\u001b[4m3\u001b[24m -\u001b[31m0\u001b[39m\u001b[31m.\u001b[39m\u001b[31m00\u001b[39m\u001b[31m2\u001b[4m6\u001b[24m\u001b[4m8\u001b[24m\u001b[39m   0.075\u001b[4m2\u001b[24m 1.41   0.084\n",
      "\u001b[90m5\u001b[39m kiviet        0.796   0.044\u001b[4m1\u001b[24m -\u001b[31m0\u001b[39m\u001b[31m.\u001b[39m\u001b[31m00\u001b[39m\u001b[31m2\u001b[4m2\u001b[24m\u001b[4m7\u001b[24m\u001b[39m   0.055\u001b[4m1\u001b[24m 0.477  0.021\n",
      "\u001b[90m6\u001b[39m LSDV          0.575   0.049\u001b[4m9\u001b[24m  0.000\u001b[4m4\u001b[24m\u001b[4m1\u001b[24m\u001b[4m1\u001b[24m  0.078\u001b[4m3\u001b[24m 1.51   0.993\n"
     ]
    }
   ],
   "source": [
    "EJ3 <- montecarlo(1000, 30, 20, 0.8, 0)\n",
    "print(EJ3)"
   ]
  },
  {
   "cell_type": "code",
   "execution_count": 11,
   "metadata": {
    "vscode": {
     "languageId": "r"
    }
   },
   "outputs": [
    {
     "name": "stdout",
     "output_type": "stream",
     "text": [
      "\u001b[90m# A tibble: 6 × 7\u001b[39m\n",
      "  estimador alpha_hat st_alpha beta_hat st_beta  RMSE tamano\n",
      "  \u001b[3m\u001b[90m<chr>\u001b[39m\u001b[23m         \u001b[3m\u001b[90m<dbl>\u001b[39m\u001b[23m    \u001b[3m\u001b[90m<dbl>\u001b[39m\u001b[23m    \u001b[3m\u001b[90m<dbl>\u001b[39m\u001b[23m   \u001b[3m\u001b[90m<dbl>\u001b[39m\u001b[23m \u001b[3m\u001b[90m<dbl>\u001b[39m\u001b[23m  \u001b[3m\u001b[90m<dbl>\u001b[39m\u001b[23m\n",
      "\u001b[90m1\u001b[39m AB1           0.717   0.112   0.002\u001b[4m5\u001b[24m\u001b[4m7\u001b[24m  0.120  1.65   0.426\n",
      "\u001b[90m2\u001b[39m AB2           0.711   0.133   0.004\u001b[4m3\u001b[24m\u001b[4m2\u001b[24m  0.140  1.67   0.332\n",
      "\u001b[90m3\u001b[39m AH            0.927   0.441   0.002\u001b[4m1\u001b[24m\u001b[4m3\u001b[24m  0.130  3.56   0    \n",
      "\u001b[90m4\u001b[39m BB1           0.907   0.035\u001b[4m7\u001b[24m  0.004\u001b[4m2\u001b[24m\u001b[4m8\u001b[24m  0.074\u001b[4m4\u001b[24m 1.42   0.084\n",
      "\u001b[90m5\u001b[39m kiviet        0.917   0.042\u001b[4m0\u001b[24m  0.002\u001b[4m8\u001b[24m\u001b[4m8\u001b[24m  0.055\u001b[4m4\u001b[24m 0.296  0.003\n",
      "\u001b[90m6\u001b[39m LSDV          0.662   0.045\u001b[4m6\u001b[24m  0.002\u001b[4m8\u001b[24m\u001b[4m8\u001b[24m  0.076\u001b[4m9\u001b[24m 1.69   1    \n"
     ]
    }
   ],
   "source": [
    "EJ4 <- montecarlo(1000, 30, 20, 0.92, 0)\n",
    "print(EJ4)"
   ]
  },
  {
   "cell_type": "code",
   "execution_count": 12,
   "metadata": {
    "vscode": {
     "languageId": "r"
    }
   },
   "outputs": [
    {
     "name": "stdout",
     "output_type": "stream",
     "text": [
      "\u001b[90m# A tibble: 6 × 7\u001b[39m\n",
      "  estimador alpha_hat st_alpha  beta_hat st_beta  RMSE tamano\n",
      "  \u001b[3m\u001b[90m<chr>\u001b[39m\u001b[23m         \u001b[3m\u001b[90m<dbl>\u001b[39m\u001b[23m    \u001b[3m\u001b[90m<dbl>\u001b[39m\u001b[23m     \u001b[3m\u001b[90m<dbl>\u001b[39m\u001b[23m   \u001b[3m\u001b[90m<dbl>\u001b[39m\u001b[23m \u001b[3m\u001b[90m<dbl>\u001b[39m\u001b[23m  \u001b[3m\u001b[90m<dbl>\u001b[39m\u001b[23m\n",
      "\u001b[90m1\u001b[39m AB1           0.464   0.061\u001b[4m5\u001b[24m  0.003\u001b[4m3\u001b[24m\u001b[4m7\u001b[24m   0.102  1.42   0.1  \n",
      "\u001b[90m2\u001b[39m AB2           0.463   0.067\u001b[4m3\u001b[24m  0.003\u001b[4m2\u001b[24m\u001b[4m0\u001b[24m   0.111  1.42   0.082\n",
      "\u001b[90m3\u001b[39m AH            0.500   0.110   0.004\u001b[4m4\u001b[24m\u001b[4m0\u001b[24m   0.094\u001b[4m7\u001b[24m 1.63   0.008\n",
      "\u001b[90m4\u001b[39m BB1           0.491   0.048\u001b[4m7\u001b[24m -\u001b[31m0\u001b[39m\u001b[31m.\u001b[39m\u001b[31m000\u001b[39m\u001b[31m\u001b[4m3\u001b[24m\u001b[4m4\u001b[24m\u001b[4m4\u001b[24m\u001b[39m  0.063\u001b[4m2\u001b[24m 1.41   0.053\n",
      "\u001b[90m5\u001b[39m kiviet        0.499   0.036\u001b[4m9\u001b[24m  0.000\u001b[4m3\u001b[24m\u001b[4m5\u001b[24m\u001b[4m0\u001b[24m  0.042\u001b[4m3\u001b[24m 0.815  0.049\n",
      "\u001b[90m6\u001b[39m LSDV          0.336   0.044\u001b[4m4\u001b[24m  0.000\u001b[4m7\u001b[24m\u001b[4m9\u001b[24m\u001b[4m7\u001b[24m  0.061\u001b[4m6\u001b[24m 1.44   0.971\n"
     ]
    }
   ],
   "source": [
    "EJ5 <- montecarlo(1000, 50, 30, 0.5, 0)\n",
    "print(EJ5)"
   ]
  },
  {
   "cell_type": "code",
   "execution_count": 13,
   "metadata": {
    "vscode": {
     "languageId": "r"
    }
   },
   "outputs": [
    {
     "name": "stdout",
     "output_type": "stream",
     "text": [
      "\u001b[90m# A tibble: 6 × 7\u001b[39m\n",
      "  estimador alpha_hat st_alpha beta_hat st_beta  RMSE tamano\n",
      "  \u001b[3m\u001b[90m<chr>\u001b[39m\u001b[23m         \u001b[3m\u001b[90m<dbl>\u001b[39m\u001b[23m    \u001b[3m\u001b[90m<dbl>\u001b[39m\u001b[23m    \u001b[3m\u001b[90m<dbl>\u001b[39m\u001b[23m   \u001b[3m\u001b[90m<dbl>\u001b[39m\u001b[23m \u001b[3m\u001b[90m<dbl>\u001b[39m\u001b[23m  \u001b[3m\u001b[90m<dbl>\u001b[39m\u001b[23m\n",
      "\u001b[90m1\u001b[39m AB1           0.772   0.044\u001b[4m0\u001b[24m    1.01   0.067\u001b[4m4\u001b[24m  1.44  0.08 \n",
      "\u001b[90m2\u001b[39m AB2           0.775   0.051\u001b[4m1\u001b[24m    0.988  0.075\u001b[4m4\u001b[24m  1.45  0.063\n",
      "\u001b[90m3\u001b[39m AH            0.805   0.236     1.00   0.095\u001b[4m7\u001b[24m  5.56  0    \n",
      "\u001b[90m4\u001b[39m BB1           0.798   0.014\u001b[4m6\u001b[24m    1.01   0.045\u001b[4m0\u001b[24m  1.41  0.063\n",
      "\u001b[90m5\u001b[39m kiviet        0.799   0.015\u001b[4m5\u001b[24m    1.00   0.036\u001b[4m8\u001b[24m  1.04  0.002\n",
      "\u001b[90m6\u001b[39m LSDV          0.722   0.016\u001b[4m6\u001b[24m    1.04   0.044\u001b[4m6\u001b[24m  1.47  0.998\n"
     ]
    }
   ],
   "source": [
    "EJ6 <- montecarlo(1000, 100, 7, 0.8, 1)\n",
    "print(EJ6)"
   ]
  },
  {
   "cell_type": "code",
   "execution_count": 14,
   "metadata": {
    "vscode": {
     "languageId": "r"
    }
   },
   "outputs": [
    {
     "name": "stdout",
     "output_type": "stream",
     "text": [
      "\u001b[90m# A tibble: 6 × 7\u001b[39m\n",
      "  estimador alpha_hat st_alpha  beta_hat st_beta  RMSE tamano\n",
      "  \u001b[3m\u001b[90m<chr>\u001b[39m\u001b[23m         \u001b[3m\u001b[90m<dbl>\u001b[39m\u001b[23m    \u001b[3m\u001b[90m<dbl>\u001b[39m\u001b[23m     \u001b[3m\u001b[90m<dbl>\u001b[39m\u001b[23m   \u001b[3m\u001b[90m<dbl>\u001b[39m\u001b[23m \u001b[3m\u001b[90m<dbl>\u001b[39m\u001b[23m  \u001b[3m\u001b[90m<dbl>\u001b[39m\u001b[23m\n",
      "\u001b[90m1\u001b[39m AB1           0.760   0.053\u001b[4m5\u001b[24m -\u001b[31m0\u001b[39m\u001b[31m.\u001b[39m\u001b[31m00\u001b[39m\u001b[31m2\u001b[4m4\u001b[24m\u001b[4m6\u001b[24m\u001b[39m   0.074\u001b[4m1\u001b[24m 1.42   0.114\n",
      "\u001b[90m2\u001b[39m AB2           0.758   0.062\u001b[4m4\u001b[24m -\u001b[31m0\u001b[39m\u001b[31m.\u001b[39m\u001b[31m00\u001b[39m\u001b[31m2\u001b[4m8\u001b[24m\u001b[4m7\u001b[24m\u001b[39m   0.082\u001b[4m2\u001b[24m 1.43   0.106\n",
      "\u001b[90m3\u001b[39m AH            0.801   0.140  -\u001b[31m0\u001b[39m\u001b[31m.\u001b[39m\u001b[31m00\u001b[39m\u001b[31m2\u001b[4m1\u001b[24m\u001b[4m1\u001b[24m\u001b[39m   0.067\u001b[4m3\u001b[24m 2.30   0    \n",
      "\u001b[90m4\u001b[39m BB1           0.792   0.031\u001b[4m9\u001b[24m  0.000\u001b[4m5\u001b[24m\u001b[4m1\u001b[24m\u001b[4m9\u001b[24m  0.048\u001b[4m5\u001b[24m 1.42   0.061\n",
      "\u001b[90m5\u001b[39m kiviet        0.798   0.024\u001b[4m1\u001b[24m  0.000\u001b[4m3\u001b[24m\u001b[4m8\u001b[24m\u001b[4m6\u001b[24m  0.030\u001b[4m2\u001b[24m 0.468  0.02 \n",
      "\u001b[90m6\u001b[39m LSDV          0.573   0.027\u001b[4m5\u001b[24m  0.000\u001b[4m6\u001b[24m\u001b[4m2\u001b[24m\u001b[4m5\u001b[24m  0.042\u001b[4m9\u001b[24m 1.51   1    \n"
     ]
    }
   ],
   "source": [
    "EJ7 <- montecarlo(1000, 100, 4, 0.8, 0)\n",
    "print(EJ7)"
   ]
  }
 ],
 "metadata": {
  "interpreter": {
   "hash": "bb10aa8ec91445852d7bac6a9a6b79703e52485df760975119819fe6e15e9e0f"
  },
  "kernelspec": {
   "display_name": "R",
   "language": "R",
   "name": "ir"
  },
  "language_info": {
   "codemirror_mode": "r",
   "file_extension": ".r",
   "mimetype": "text/x-r-source",
   "name": "R",
   "pygments_lexer": "r",
   "version": "4.2.0"
  },
  "orig_nbformat": 4
 },
 "nbformat": 4,
 "nbformat_minor": 2
}
